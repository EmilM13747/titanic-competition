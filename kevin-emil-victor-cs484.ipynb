{
 "cells": [
  {
   "cell_type": "code",
   "execution_count": 1,
   "id": "c464d1d6",
   "metadata": {
    "_cell_guid": "fb225923-d2ff-48a8-a6b8-b0cf18534da2",
    "_uuid": "51c4b830-db11-45ff-9931-d5f6283c28ce",
    "collapsed": false,
    "execution": {
     "iopub.execute_input": "2023-11-27T01:35:11.324598Z",
     "iopub.status.busy": "2023-11-27T01:35:11.323861Z",
     "iopub.status.idle": "2023-11-27T01:35:12.478031Z",
     "shell.execute_reply": "2023-11-27T01:35:12.476635Z"
    },
    "jupyter": {
     "outputs_hidden": false
    },
    "papermill": {
     "duration": 1.180302,
     "end_time": "2023-11-27T01:35:12.481004",
     "exception": false,
     "start_time": "2023-11-27T01:35:11.300702",
     "status": "completed"
    },
    "tags": []
   },
   "outputs": [
    {
     "name": "stdout",
     "output_type": "stream",
     "text": [
      "/kaggle/input/titanic/train.csv\n",
      "/kaggle/input/titanic/test.csv\n",
      "/kaggle/input/titanic/gender_submission.csv\n"
     ]
    }
   ],
   "source": [
    "# This Python 3 environment comes with many helpful analytics libraries installed\n",
    "# It is defined by the kaggle/python Docker image: https://github.com/kaggle/docker-python\n",
    "# For example, here's several helpful packages to load\n",
    "\n",
    "import numpy as np # linear algebra\n",
    "import pandas as pd # data processing, CSV file I/O (e.g. pd.read_csv)\n",
    "from collections import Counter\n",
    "\n",
    "# Input data files are available in the read-only \"../input/\" directory\n",
    "# For example, running this (by clicking run or pressing Shift+Enter) will list all files under the input directory\n",
    "\n",
    "import os\n",
    "for dirname, _, filenames in os.walk('/kaggle/input'):\n",
    "    for filename in filenames:\n",
    "        print(os.path.join(dirname, filename))\n",
    "\n",
    "# You can write up to 20GB to the current directory (/kaggle/working/) that gets preserved as output when you create a version using \"Save & Run All\" \n",
    "# You can also write temporary files to /kaggle/temp/, but they won't be saved outside of the current session"
   ]
  },
  {
   "cell_type": "markdown",
   "id": "c00ebd61",
   "metadata": {
    "_cell_guid": "b688d4c1-9a0b-47aa-8063-52face1b4aa5",
    "_uuid": "ce4d89f9-01d2-4c2b-af97-d746d53c0bbc",
    "papermill": {
     "duration": 0.02112,
     "end_time": "2023-11-27T01:35:12.527569",
     "exception": false,
     "start_time": "2023-11-27T01:35:12.506449",
     "status": "completed"
    },
    "tags": []
   },
   "source": [
    "# 1. Data Exploration"
   ]
  },
  {
   "cell_type": "code",
   "execution_count": 2,
   "id": "77bde16a",
   "metadata": {
    "_cell_guid": "63e30a51-074f-4c96-8124-8da69aae16df",
    "_uuid": "1657dd9b-0d0f-4aaf-8fe6-d3b37d54e5ab",
    "collapsed": false,
    "execution": {
     "iopub.execute_input": "2023-11-27T01:35:12.570663Z",
     "iopub.status.busy": "2023-11-27T01:35:12.569014Z",
     "iopub.status.idle": "2023-11-27T01:35:12.623131Z",
     "shell.execute_reply": "2023-11-27T01:35:12.621259Z"
    },
    "jupyter": {
     "outputs_hidden": false
    },
    "papermill": {
     "duration": 0.079683,
     "end_time": "2023-11-27T01:35:12.627383",
     "exception": false,
     "start_time": "2023-11-27T01:35:12.547700",
     "status": "completed"
    },
    "tags": []
   },
   "outputs": [
    {
     "data": {
      "text/html": [
       "<div>\n",
       "<style scoped>\n",
       "    .dataframe tbody tr th:only-of-type {\n",
       "        vertical-align: middle;\n",
       "    }\n",
       "\n",
       "    .dataframe tbody tr th {\n",
       "        vertical-align: top;\n",
       "    }\n",
       "\n",
       "    .dataframe thead th {\n",
       "        text-align: right;\n",
       "    }\n",
       "</style>\n",
       "<table border=\"1\" class=\"dataframe\">\n",
       "  <thead>\n",
       "    <tr style=\"text-align: right;\">\n",
       "      <th></th>\n",
       "      <th>PassengerId</th>\n",
       "      <th>Survived</th>\n",
       "      <th>Pclass</th>\n",
       "      <th>Name</th>\n",
       "      <th>Sex</th>\n",
       "      <th>Age</th>\n",
       "      <th>SibSp</th>\n",
       "      <th>Parch</th>\n",
       "      <th>Ticket</th>\n",
       "      <th>Fare</th>\n",
       "      <th>Cabin</th>\n",
       "      <th>Embarked</th>\n",
       "    </tr>\n",
       "  </thead>\n",
       "  <tbody>\n",
       "    <tr>\n",
       "      <th>0</th>\n",
       "      <td>1</td>\n",
       "      <td>0</td>\n",
       "      <td>3</td>\n",
       "      <td>Braund, Mr. Owen Harris</td>\n",
       "      <td>male</td>\n",
       "      <td>22.0</td>\n",
       "      <td>1</td>\n",
       "      <td>0</td>\n",
       "      <td>A/5 21171</td>\n",
       "      <td>7.2500</td>\n",
       "      <td>NaN</td>\n",
       "      <td>S</td>\n",
       "    </tr>\n",
       "    <tr>\n",
       "      <th>1</th>\n",
       "      <td>2</td>\n",
       "      <td>1</td>\n",
       "      <td>1</td>\n",
       "      <td>Cumings, Mrs. John Bradley (Florence Briggs Th...</td>\n",
       "      <td>female</td>\n",
       "      <td>38.0</td>\n",
       "      <td>1</td>\n",
       "      <td>0</td>\n",
       "      <td>PC 17599</td>\n",
       "      <td>71.2833</td>\n",
       "      <td>C85</td>\n",
       "      <td>C</td>\n",
       "    </tr>\n",
       "    <tr>\n",
       "      <th>2</th>\n",
       "      <td>3</td>\n",
       "      <td>1</td>\n",
       "      <td>3</td>\n",
       "      <td>Heikkinen, Miss. Laina</td>\n",
       "      <td>female</td>\n",
       "      <td>26.0</td>\n",
       "      <td>0</td>\n",
       "      <td>0</td>\n",
       "      <td>STON/O2. 3101282</td>\n",
       "      <td>7.9250</td>\n",
       "      <td>NaN</td>\n",
       "      <td>S</td>\n",
       "    </tr>\n",
       "    <tr>\n",
       "      <th>3</th>\n",
       "      <td>4</td>\n",
       "      <td>1</td>\n",
       "      <td>1</td>\n",
       "      <td>Futrelle, Mrs. Jacques Heath (Lily May Peel)</td>\n",
       "      <td>female</td>\n",
       "      <td>35.0</td>\n",
       "      <td>1</td>\n",
       "      <td>0</td>\n",
       "      <td>113803</td>\n",
       "      <td>53.1000</td>\n",
       "      <td>C123</td>\n",
       "      <td>S</td>\n",
       "    </tr>\n",
       "    <tr>\n",
       "      <th>4</th>\n",
       "      <td>5</td>\n",
       "      <td>0</td>\n",
       "      <td>3</td>\n",
       "      <td>Allen, Mr. William Henry</td>\n",
       "      <td>male</td>\n",
       "      <td>35.0</td>\n",
       "      <td>0</td>\n",
       "      <td>0</td>\n",
       "      <td>373450</td>\n",
       "      <td>8.0500</td>\n",
       "      <td>NaN</td>\n",
       "      <td>S</td>\n",
       "    </tr>\n",
       "  </tbody>\n",
       "</table>\n",
       "</div>"
      ],
      "text/plain": [
       "   PassengerId  Survived  Pclass  \\\n",
       "0            1         0       3   \n",
       "1            2         1       1   \n",
       "2            3         1       3   \n",
       "3            4         1       1   \n",
       "4            5         0       3   \n",
       "\n",
       "                                                Name     Sex   Age  SibSp  \\\n",
       "0                            Braund, Mr. Owen Harris    male  22.0      1   \n",
       "1  Cumings, Mrs. John Bradley (Florence Briggs Th...  female  38.0      1   \n",
       "2                             Heikkinen, Miss. Laina  female  26.0      0   \n",
       "3       Futrelle, Mrs. Jacques Heath (Lily May Peel)  female  35.0      1   \n",
       "4                           Allen, Mr. William Henry    male  35.0      0   \n",
       "\n",
       "   Parch            Ticket     Fare Cabin Embarked  \n",
       "0      0         A/5 21171   7.2500   NaN        S  \n",
       "1      0          PC 17599  71.2833   C85        C  \n",
       "2      0  STON/O2. 3101282   7.9250   NaN        S  \n",
       "3      0            113803  53.1000  C123        S  \n",
       "4      0            373450   8.0500   NaN        S  "
      ]
     },
     "execution_count": 2,
     "metadata": {},
     "output_type": "execute_result"
    }
   ],
   "source": [
    "train_data = pd.read_csv(\"/kaggle/input/titanic/train.csv\")\n",
    "train_data.head()"
   ]
  },
  {
   "cell_type": "code",
   "execution_count": 3,
   "id": "71be9fb3",
   "metadata": {
    "_cell_guid": "d302959d-de5c-410c-b0dc-349cf5284271",
    "_uuid": "b996a3b1-dabb-4cbc-8dd8-3fcc3acb5ae0",
    "collapsed": false,
    "execution": {
     "iopub.execute_input": "2023-11-27T01:35:12.687569Z",
     "iopub.status.busy": "2023-11-27T01:35:12.686587Z",
     "iopub.status.idle": "2023-11-27T01:35:12.721645Z",
     "shell.execute_reply": "2023-11-27T01:35:12.720490Z"
    },
    "jupyter": {
     "outputs_hidden": false
    },
    "papermill": {
     "duration": 0.069751,
     "end_time": "2023-11-27T01:35:12.724396",
     "exception": false,
     "start_time": "2023-11-27T01:35:12.654645",
     "status": "completed"
    },
    "tags": []
   },
   "outputs": [
    {
     "data": {
      "text/html": [
       "<div>\n",
       "<style scoped>\n",
       "    .dataframe tbody tr th:only-of-type {\n",
       "        vertical-align: middle;\n",
       "    }\n",
       "\n",
       "    .dataframe tbody tr th {\n",
       "        vertical-align: top;\n",
       "    }\n",
       "\n",
       "    .dataframe thead th {\n",
       "        text-align: right;\n",
       "    }\n",
       "</style>\n",
       "<table border=\"1\" class=\"dataframe\">\n",
       "  <thead>\n",
       "    <tr style=\"text-align: right;\">\n",
       "      <th></th>\n",
       "      <th>PassengerId</th>\n",
       "      <th>Pclass</th>\n",
       "      <th>Name</th>\n",
       "      <th>Sex</th>\n",
       "      <th>Age</th>\n",
       "      <th>SibSp</th>\n",
       "      <th>Parch</th>\n",
       "      <th>Ticket</th>\n",
       "      <th>Fare</th>\n",
       "      <th>Cabin</th>\n",
       "      <th>Embarked</th>\n",
       "    </tr>\n",
       "  </thead>\n",
       "  <tbody>\n",
       "    <tr>\n",
       "      <th>0</th>\n",
       "      <td>892</td>\n",
       "      <td>3</td>\n",
       "      <td>Kelly, Mr. James</td>\n",
       "      <td>male</td>\n",
       "      <td>34.5</td>\n",
       "      <td>0</td>\n",
       "      <td>0</td>\n",
       "      <td>330911</td>\n",
       "      <td>7.8292</td>\n",
       "      <td>NaN</td>\n",
       "      <td>Q</td>\n",
       "    </tr>\n",
       "    <tr>\n",
       "      <th>1</th>\n",
       "      <td>893</td>\n",
       "      <td>3</td>\n",
       "      <td>Wilkes, Mrs. James (Ellen Needs)</td>\n",
       "      <td>female</td>\n",
       "      <td>47.0</td>\n",
       "      <td>1</td>\n",
       "      <td>0</td>\n",
       "      <td>363272</td>\n",
       "      <td>7.0000</td>\n",
       "      <td>NaN</td>\n",
       "      <td>S</td>\n",
       "    </tr>\n",
       "    <tr>\n",
       "      <th>2</th>\n",
       "      <td>894</td>\n",
       "      <td>2</td>\n",
       "      <td>Myles, Mr. Thomas Francis</td>\n",
       "      <td>male</td>\n",
       "      <td>62.0</td>\n",
       "      <td>0</td>\n",
       "      <td>0</td>\n",
       "      <td>240276</td>\n",
       "      <td>9.6875</td>\n",
       "      <td>NaN</td>\n",
       "      <td>Q</td>\n",
       "    </tr>\n",
       "    <tr>\n",
       "      <th>3</th>\n",
       "      <td>895</td>\n",
       "      <td>3</td>\n",
       "      <td>Wirz, Mr. Albert</td>\n",
       "      <td>male</td>\n",
       "      <td>27.0</td>\n",
       "      <td>0</td>\n",
       "      <td>0</td>\n",
       "      <td>315154</td>\n",
       "      <td>8.6625</td>\n",
       "      <td>NaN</td>\n",
       "      <td>S</td>\n",
       "    </tr>\n",
       "    <tr>\n",
       "      <th>4</th>\n",
       "      <td>896</td>\n",
       "      <td>3</td>\n",
       "      <td>Hirvonen, Mrs. Alexander (Helga E Lindqvist)</td>\n",
       "      <td>female</td>\n",
       "      <td>22.0</td>\n",
       "      <td>1</td>\n",
       "      <td>1</td>\n",
       "      <td>3101298</td>\n",
       "      <td>12.2875</td>\n",
       "      <td>NaN</td>\n",
       "      <td>S</td>\n",
       "    </tr>\n",
       "  </tbody>\n",
       "</table>\n",
       "</div>"
      ],
      "text/plain": [
       "   PassengerId  Pclass                                          Name     Sex  \\\n",
       "0          892       3                              Kelly, Mr. James    male   \n",
       "1          893       3              Wilkes, Mrs. James (Ellen Needs)  female   \n",
       "2          894       2                     Myles, Mr. Thomas Francis    male   \n",
       "3          895       3                              Wirz, Mr. Albert    male   \n",
       "4          896       3  Hirvonen, Mrs. Alexander (Helga E Lindqvist)  female   \n",
       "\n",
       "    Age  SibSp  Parch   Ticket     Fare Cabin Embarked  \n",
       "0  34.5      0      0   330911   7.8292   NaN        Q  \n",
       "1  47.0      1      0   363272   7.0000   NaN        S  \n",
       "2  62.0      0      0   240276   9.6875   NaN        Q  \n",
       "3  27.0      0      0   315154   8.6625   NaN        S  \n",
       "4  22.0      1      1  3101298  12.2875   NaN        S  "
      ]
     },
     "execution_count": 3,
     "metadata": {},
     "output_type": "execute_result"
    }
   ],
   "source": [
    "test_data = pd.read_csv(\"/kaggle/input/titanic/test.csv\")\n",
    "test_data.head()"
   ]
  },
  {
   "cell_type": "markdown",
   "id": "c8506c40",
   "metadata": {
    "_cell_guid": "62d31d97-c3bd-4ae6-a02e-4bfcbd493996",
    "_uuid": "a863c2bd-0451-45ef-a3e1-eab3d55aa84d",
    "papermill": {
     "duration": 0.020544,
     "end_time": "2023-11-27T01:35:12.765780",
     "exception": false,
     "start_time": "2023-11-27T01:35:12.745236",
     "status": "completed"
    },
    "tags": []
   },
   "source": [
    "Data exploration to have a better understanding of our training data"
   ]
  },
  {
   "cell_type": "code",
   "execution_count": 4,
   "id": "710d5898",
   "metadata": {
    "_cell_guid": "7255311e-8fd0-4074-a90c-227ac3fbe7d5",
    "_uuid": "548f2d55-980d-4826-9c71-32508fa6aa37",
    "collapsed": false,
    "execution": {
     "iopub.execute_input": "2023-11-27T01:35:12.810801Z",
     "iopub.status.busy": "2023-11-27T01:35:12.809741Z",
     "iopub.status.idle": "2023-11-27T01:35:12.843487Z",
     "shell.execute_reply": "2023-11-27T01:35:12.841521Z"
    },
    "jupyter": {
     "outputs_hidden": false
    },
    "papermill": {
     "duration": 0.059547,
     "end_time": "2023-11-27T01:35:12.846507",
     "exception": false,
     "start_time": "2023-11-27T01:35:12.786960",
     "status": "completed"
    },
    "tags": []
   },
   "outputs": [
    {
     "name": "stdout",
     "output_type": "stream",
     "text": [
      "<class 'pandas.core.frame.DataFrame'>\n",
      "RangeIndex: 891 entries, 0 to 890\n",
      "Data columns (total 12 columns):\n",
      " #   Column       Non-Null Count  Dtype  \n",
      "---  ------       --------------  -----  \n",
      " 0   PassengerId  891 non-null    int64  \n",
      " 1   Survived     891 non-null    int64  \n",
      " 2   Pclass       891 non-null    int64  \n",
      " 3   Name         891 non-null    object \n",
      " 4   Sex          891 non-null    object \n",
      " 5   Age          714 non-null    float64\n",
      " 6   SibSp        891 non-null    int64  \n",
      " 7   Parch        891 non-null    int64  \n",
      " 8   Ticket       891 non-null    object \n",
      " 9   Fare         891 non-null    float64\n",
      " 10  Cabin        204 non-null    object \n",
      " 11  Embarked     889 non-null    object \n",
      "dtypes: float64(2), int64(5), object(5)\n",
      "memory usage: 83.7+ KB\n"
     ]
    }
   ],
   "source": [
    "#looking at the data types and the null counts\n",
    "train_data.info()"
   ]
  },
  {
   "cell_type": "code",
   "execution_count": 5,
   "id": "3efeed6f",
   "metadata": {
    "_cell_guid": "933a606c-1c30-491b-88c3-8ae47d83f50e",
    "_uuid": "c5560564-0dbe-4788-9c75-5bee4eab5206",
    "collapsed": false,
    "execution": {
     "iopub.execute_input": "2023-11-27T01:35:12.893742Z",
     "iopub.status.busy": "2023-11-27T01:35:12.892666Z",
     "iopub.status.idle": "2023-11-27T01:35:15.811289Z",
     "shell.execute_reply": "2023-11-27T01:35:15.810270Z"
    },
    "jupyter": {
     "outputs_hidden": false
    },
    "papermill": {
     "duration": 2.947027,
     "end_time": "2023-11-27T01:35:15.814530",
     "exception": false,
     "start_time": "2023-11-27T01:35:12.867503",
     "status": "completed"
    },
    "tags": []
   },
   "outputs": [
    {
     "data": {
      "text/plain": [
       "<Axes: >"
      ]
     },
     "execution_count": 5,
     "metadata": {},
     "output_type": "execute_result"
    },
    {
     "data": {
      "image/png": "[encoded data removed]",
      "text/plain": [
       "<Figure size 2500x1000 with 2 Axes>"
      ]
     },
     "metadata": {},
     "output_type": "display_data"
    }
   ],
   "source": [
    "import missingno\n",
    "#visualizing our missing data\n",
    "missingno.matrix(train_data)"
   ]
  },
  {
   "cell_type": "code",
   "execution_count": 6,
   "id": "592514ee",
   "metadata": {
    "_cell_guid": "1bb36bbb-5f7d-4aa1-a15d-329f6c23f19f",
    "_uuid": "c2c29a73-dae3-46f3-93f9-d45c1ee9bf4b",
    "collapsed": false,
    "execution": {
     "iopub.execute_input": "2023-11-27T01:35:15.863668Z",
     "iopub.status.busy": "2023-11-27T01:35:15.862198Z",
     "iopub.status.idle": "2023-11-27T01:35:15.902116Z",
     "shell.execute_reply": "2023-11-27T01:35:15.900836Z"
    },
    "jupyter": {
     "outputs_hidden": false
    },
    "papermill": {
     "duration": 0.067709,
     "end_time": "2023-11-27T01:35:15.905362",
     "exception": false,
     "start_time": "2023-11-27T01:35:15.837653",
     "status": "completed"
    },
    "tags": []
   },
   "outputs": [
    {
     "data": {
      "text/html": [
       "<div>\n",
       "<style scoped>\n",
       "    .dataframe tbody tr th:only-of-type {\n",
       "        vertical-align: middle;\n",
       "    }\n",
       "\n",
       "    .dataframe tbody tr th {\n",
       "        vertical-align: top;\n",
       "    }\n",
       "\n",
       "    .dataframe thead th {\n",
       "        text-align: right;\n",
       "    }\n",
       "</style>\n",
       "<table border=\"1\" class=\"dataframe\">\n",
       "  <thead>\n",
       "    <tr style=\"text-align: right;\">\n",
       "      <th></th>\n",
       "      <th>PassengerId</th>\n",
       "      <th>Survived</th>\n",
       "      <th>Pclass</th>\n",
       "      <th>Age</th>\n",
       "      <th>SibSp</th>\n",
       "      <th>Parch</th>\n",
       "      <th>Fare</th>\n",
       "    </tr>\n",
       "  </thead>\n",
       "  <tbody>\n",
       "    <tr>\n",
       "      <th>count</th>\n",
       "      <td>891.000000</td>\n",
       "      <td>891.000000</td>\n",
       "      <td>891.000000</td>\n",
       "      <td>714.000000</td>\n",
       "      <td>891.000000</td>\n",
       "      <td>891.000000</td>\n",
       "      <td>891.000000</td>\n",
       "    </tr>\n",
       "    <tr>\n",
       "      <th>mean</th>\n",
       "      <td>446.000000</td>\n",
       "      <td>0.383838</td>\n",
       "      <td>2.308642</td>\n",
       "      <td>29.699118</td>\n",
       "      <td>0.523008</td>\n",
       "      <td>0.381594</td>\n",
       "      <td>32.204208</td>\n",
       "    </tr>\n",
       "    <tr>\n",
       "      <th>std</th>\n",
       "      <td>257.353842</td>\n",
       "      <td>0.486592</td>\n",
       "      <td>0.836071</td>\n",
       "      <td>14.526497</td>\n",
       "      <td>1.102743</td>\n",
       "      <td>0.806057</td>\n",
       "      <td>49.693429</td>\n",
       "    </tr>\n",
       "    <tr>\n",
       "      <th>min</th>\n",
       "      <td>1.000000</td>\n",
       "      <td>0.000000</td>\n",
       "      <td>1.000000</td>\n",
       "      <td>0.420000</td>\n",
       "      <td>0.000000</td>\n",
       "      <td>0.000000</td>\n",
       "      <td>0.000000</td>\n",
       "    </tr>\n",
       "    <tr>\n",
       "      <th>25%</th>\n",
       "      <td>223.500000</td>\n",
       "      <td>0.000000</td>\n",
       "      <td>2.000000</td>\n",
       "      <td>20.125000</td>\n",
       "      <td>0.000000</td>\n",
       "      <td>0.000000</td>\n",
       "      <td>7.910400</td>\n",
       "    </tr>\n",
       "    <tr>\n",
       "      <th>50%</th>\n",
       "      <td>446.000000</td>\n",
       "      <td>0.000000</td>\n",
       "      <td>3.000000</td>\n",
       "      <td>28.000000</td>\n",
       "      <td>0.000000</td>\n",
       "      <td>0.000000</td>\n",
       "      <td>14.454200</td>\n",
       "    </tr>\n",
       "    <tr>\n",
       "      <th>75%</th>\n",
       "      <td>668.500000</td>\n",
       "      <td>1.000000</td>\n",
       "      <td>3.000000</td>\n",
       "      <td>38.000000</td>\n",
       "      <td>1.000000</td>\n",
       "      <td>0.000000</td>\n",
       "      <td>31.000000</td>\n",
       "    </tr>\n",
       "    <tr>\n",
       "      <th>max</th>\n",
       "      <td>891.000000</td>\n",
       "      <td>1.000000</td>\n",
       "      <td>3.000000</td>\n",
       "      <td>80.000000</td>\n",
       "      <td>8.000000</td>\n",
       "      <td>6.000000</td>\n",
       "      <td>512.329200</td>\n",
       "    </tr>\n",
       "  </tbody>\n",
       "</table>\n",
       "</div>"
      ],
      "text/plain": [
       "       PassengerId    Survived      Pclass         Age       SibSp  \\\n",
       "count   891.000000  891.000000  891.000000  714.000000  891.000000   \n",
       "mean    446.000000    0.383838    2.308642   29.699118    0.523008   \n",
       "std     257.353842    0.486592    0.836071   14.526497    1.102743   \n",
       "min       1.000000    0.000000    1.000000    0.420000    0.000000   \n",
       "25%     223.500000    0.000000    2.000000   20.125000    0.000000   \n",
       "50%     446.000000    0.000000    3.000000   28.000000    0.000000   \n",
       "75%     668.500000    1.000000    3.000000   38.000000    1.000000   \n",
       "max     891.000000    1.000000    3.000000   80.000000    8.000000   \n",
       "\n",
       "            Parch        Fare  \n",
       "count  891.000000  891.000000  \n",
       "mean     0.381594   32.204208  \n",
       "std      0.806057   49.693429  \n",
       "min      0.000000    0.000000  \n",
       "25%      0.000000    7.910400  \n",
       "50%      0.000000   14.454200  \n",
       "75%      0.000000   31.000000  \n",
       "max      6.000000  512.329200  "
      ]
     },
     "execution_count": 6,
     "metadata": {},
     "output_type": "execute_result"
    }
   ],
   "source": [
    "#getting descriptive statistics of numerical data\n",
    "train_data.describe()"
   ]
  },
  {
   "cell_type": "code",
   "execution_count": 7,
   "id": "f3d34f1f",
   "metadata": {
    "_cell_guid": "1e68e9ff-13ff-4b82-af37-620c7aebc46d",
    "_uuid": "ca911184-7fbd-4874-b27c-8cfab0ec3a13",
    "collapsed": false,
    "execution": {
     "iopub.execute_input": "2023-11-27T01:35:15.954747Z",
     "iopub.status.busy": "2023-11-27T01:35:15.954280Z",
     "iopub.status.idle": "2023-11-27T01:35:15.967191Z",
     "shell.execute_reply": "2023-11-27T01:35:15.966114Z"
    },
    "jupyter": {
     "outputs_hidden": false
    },
    "papermill": {
     "duration": 0.040323,
     "end_time": "2023-11-27T01:35:15.969735",
     "exception": false,
     "start_time": "2023-11-27T01:35:15.929412",
     "status": "completed"
    },
    "tags": []
   },
   "outputs": [],
   "source": [
    "#will look at numerical variables and categorical variables separately\n",
    "num_var = train_data[['Age', 'SibSp', 'Parch', 'Fare']]\n",
    "cat_var = train_data[['Survived', 'Pclass', 'Sex', 'Ticket', 'Cabin', 'Embarked']]"
   ]
  },
  {
   "cell_type": "markdown",
   "id": "b3a505bc",
   "metadata": {
    "_cell_guid": "1d759e59-16a7-40b7-8389-2ef86421649e",
    "_uuid": "fd35b967-7b31-46b6-8bd1-5ba7b7d3f2d4",
    "papermill": {
     "duration": 0.023296,
     "end_time": "2023-11-27T01:35:16.016021",
     "exception": false,
     "start_time": "2023-11-27T01:35:15.992725",
     "status": "completed"
    },
    "tags": []
   },
   "source": [
    "# **1.1) Numerical data**"
   ]
  },
  {
   "cell_type": "code",
   "execution_count": 8,
   "id": "f3aaba4e",
   "metadata": {
    "_cell_guid": "21f575d5-07a1-4ba7-a939-7c15000344a0",
    "_uuid": "4400f0fc-7a78-49b4-82a8-22688e391afe",
    "collapsed": false,
    "execution": {
     "iopub.execute_input": "2023-11-27T01:35:16.065684Z",
     "iopub.status.busy": "2023-11-27T01:35:16.064450Z",
     "iopub.status.idle": "2023-11-27T01:35:17.308991Z",
     "shell.execute_reply": "2023-11-27T01:35:17.307616Z"
    },
    "jupyter": {
     "outputs_hidden": false
    },
    "papermill": {
     "duration": 1.272227,
     "end_time": "2023-11-27T01:35:17.312040",
     "exception": false,
     "start_time": "2023-11-27T01:35:16.039813",
     "status": "completed"
    },
    "tags": []
   },
   "outputs": [
    {
     "data": {
      "image/png": "[encoded data removed]",
      "text/plain": [
       "<Figure size 640x480 with 1 Axes>"
      ]
     },
     "metadata": {},
     "output_type": "display_data"
    },
    {
     "data": {
      "image/png": "[encoded data removed]",
      "text/plain": [
       "<Figure size 640x480 with 1 Axes>"
      ]
     },
     "metadata": {},
     "output_type": "display_data"
    },
    {
     "data": {
      "image/png": "[encoded data removed]",
      "text/plain": [
       "<Figure size 640x480 with 1 Axes>"
      ]
     },
     "metadata": {},
     "output_type": "display_data"
    },
    {
     "data": {
      "image/png": "[encoded data removed]",
      "text/plain": [
       "<Figure size 640x480 with 1 Axes>"
      ]
     },
     "metadata": {},
     "output_type": "display_data"
    }
   ],
   "source": [
    "import matplotlib.pyplot as plt\n",
    "for i in num_var.columns:\n",
    "    plt.hist(num_var[i])\n",
    "    plt.title(i)\n",
    "    plt.show()"
   ]
  },
  {
   "cell_type": "code",
   "execution_count": 9,
   "id": "4f9c04ec",
   "metadata": {
    "_cell_guid": "883c8874-ae18-4d3d-a22a-7fdfaa3caa86",
    "_uuid": "9081b276-bfe9-4022-bd42-81e1df1c7bc1",
    "collapsed": false,
    "execution": {
     "iopub.execute_input": "2023-11-27T01:35:17.460793Z",
     "iopub.status.busy": "2023-11-27T01:35:17.459339Z",
     "iopub.status.idle": "2023-11-27T01:35:17.831051Z",
     "shell.execute_reply": "2023-11-27T01:35:17.829591Z"
    },
    "jupyter": {
     "outputs_hidden": false
    },
    "papermill": {
     "duration": 0.402044,
     "end_time": "2023-11-27T01:35:17.834302",
     "exception": false,
     "start_time": "2023-11-27T01:35:17.432258",
     "status": "completed"
    },
    "tags": []
   },
   "outputs": [
    {
     "name": "stdout",
     "output_type": "stream",
     "text": [
      "            Age     SibSp     Parch      Fare\n",
      "Age    1.000000 -0.308247 -0.189119  0.096067\n",
      "SibSp -0.308247  1.000000  0.414838  0.159651\n",
      "Parch -0.189119  0.414838  1.000000  0.216225\n",
      "Fare   0.096067  0.159651  0.216225  1.000000\n"
     ]
    },
    {
     "data": {
      "text/plain": [
       "<Axes: >"
      ]
     },
     "execution_count": 9,
     "metadata": {},
     "output_type": "execute_result"
    },
    {
     "data": {
      "image/png": "[encoded data removed]",
      "text/plain": [
       "<Figure size 640x480 with 2 Axes>"
      ]
     },
     "metadata": {},
     "output_type": "display_data"
    }
   ],
   "source": [
    "import seaborn as sns\n",
    "print(num_var.corr())\n",
    "sns.heatmap(num_var.corr())"
   ]
  },
  {
   "cell_type": "code",
   "execution_count": 10,
   "id": "9008f4b4",
   "metadata": {
    "_cell_guid": "b3ea19ef-cb5a-4925-82fb-a128ff383d29",
    "_uuid": "23f9b00e-50d7-4fdb-8fd5-1f67807727b9",
    "collapsed": false,
    "execution": {
     "iopub.execute_input": "2023-11-27T01:35:17.887854Z",
     "iopub.status.busy": "2023-11-27T01:35:17.887369Z",
     "iopub.status.idle": "2023-11-27T01:35:17.914865Z",
     "shell.execute_reply": "2023-11-27T01:35:17.913297Z"
    },
    "jupyter": {
     "outputs_hidden": false
    },
    "papermill": {
     "duration": 0.057886,
     "end_time": "2023-11-27T01:35:17.918218",
     "exception": false,
     "start_time": "2023-11-27T01:35:17.860332",
     "status": "completed"
    },
    "tags": []
   },
   "outputs": [
    {
     "data": {
      "text/html": [
       "<div>\n",
       "<style scoped>\n",
       "    .dataframe tbody tr th:only-of-type {\n",
       "        vertical-align: middle;\n",
       "    }\n",
       "\n",
       "    .dataframe tbody tr th {\n",
       "        vertical-align: top;\n",
       "    }\n",
       "\n",
       "    .dataframe thead th {\n",
       "        text-align: right;\n",
       "    }\n",
       "</style>\n",
       "<table border=\"1\" class=\"dataframe\">\n",
       "  <thead>\n",
       "    <tr style=\"text-align: right;\">\n",
       "      <th></th>\n",
       "      <th>Age</th>\n",
       "      <th>Fare</th>\n",
       "      <th>Parch</th>\n",
       "      <th>SibSp</th>\n",
       "    </tr>\n",
       "    <tr>\n",
       "      <th>Survived</th>\n",
       "      <th></th>\n",
       "      <th></th>\n",
       "      <th></th>\n",
       "      <th></th>\n",
       "    </tr>\n",
       "  </thead>\n",
       "  <tbody>\n",
       "    <tr>\n",
       "      <th>0</th>\n",
       "      <td>30.626179</td>\n",
       "      <td>22.117887</td>\n",
       "      <td>0.329690</td>\n",
       "      <td>0.553734</td>\n",
       "    </tr>\n",
       "    <tr>\n",
       "      <th>1</th>\n",
       "      <td>28.343690</td>\n",
       "      <td>48.395408</td>\n",
       "      <td>0.464912</td>\n",
       "      <td>0.473684</td>\n",
       "    </tr>\n",
       "  </tbody>\n",
       "</table>\n",
       "</div>"
      ],
      "text/plain": [
       "                Age       Fare     Parch     SibSp\n",
       "Survived                                          \n",
       "0         30.626179  22.117887  0.329690  0.553734\n",
       "1         28.343690  48.395408  0.464912  0.473684"
      ]
     },
     "execution_count": 10,
     "metadata": {},
     "output_type": "execute_result"
    }
   ],
   "source": [
    "#comparing the survival rate between the four numerical variables\n",
    "pd.pivot_table(train_data, index='Survived', values=['Age', 'SibSp', 'Parch','Fare'])"
   ]
  },
  {
   "cell_type": "markdown",
   "id": "f309fbd4",
   "metadata": {
    "_cell_guid": "8aa47bac-2452-47c0-aec8-8408ce33784d",
    "_uuid": "7e509e18-736c-46c2-a339-718b9071f572",
    "papermill": {
     "duration": 0.026158,
     "end_time": "2023-11-27T01:35:17.970856",
     "exception": false,
     "start_time": "2023-11-27T01:35:17.944698",
     "status": "completed"
    },
    "tags": []
   },
   "source": [
    "# 1.2) Categorical Data"
   ]
  },
  {
   "cell_type": "code",
   "execution_count": 11,
   "id": "437988ea",
   "metadata": {
    "_cell_guid": "5074fccd-a1fe-4be9-92af-530909e46b15",
    "_uuid": "dcf8ed01-e7c6-4bbf-a779-f2bd5cbd9d90",
    "collapsed": false,
    "execution": {
     "iopub.execute_input": "2023-11-27T01:35:18.027093Z",
     "iopub.status.busy": "2023-11-27T01:35:18.025940Z",
     "iopub.status.idle": "2023-11-27T01:35:18.036465Z",
     "shell.execute_reply": "2023-11-27T01:35:18.035115Z"
    },
    "jupyter": {
     "outputs_hidden": false
    },
    "papermill": {
     "duration": 0.042981,
     "end_time": "2023-11-27T01:35:18.039486",
     "exception": false,
     "start_time": "2023-11-27T01:35:17.996505",
     "status": "completed"
    },
    "tags": []
   },
   "outputs": [
    {
     "data": {
      "text/plain": [
       "Sex\n",
       "male      577\n",
       "female    314\n",
       "Name: count, dtype: int64"
      ]
     },
     "execution_count": 11,
     "metadata": {},
     "output_type": "execute_result"
    }
   ],
   "source": [
    "#Looking at categorical variable 'Sex'\n",
    "#getting counts of the sex \n",
    "train_data['Sex'].value_counts(dropna = False)"
   ]
  },
  {
   "cell_type": "code",
   "execution_count": 12,
   "id": "fb1106d4",
   "metadata": {
    "_cell_guid": "c8c48e6a-97f0-41cf-8860-a8e8af5dad20",
    "_uuid": "ae90e573-874f-448b-ae39-8d8a89e59bde",
    "collapsed": false,
    "execution": {
     "iopub.execute_input": "2023-11-27T01:35:18.093941Z",
     "iopub.status.busy": "2023-11-27T01:35:18.093424Z",
     "iopub.status.idle": "2023-11-27T01:35:18.110519Z",
     "shell.execute_reply": "2023-11-27T01:35:18.109239Z"
    },
    "jupyter": {
     "outputs_hidden": false
    },
    "papermill": {
     "duration": 0.047753,
     "end_time": "2023-11-27T01:35:18.112967",
     "exception": false,
     "start_time": "2023-11-27T01:35:18.065214",
     "status": "completed"
    },
    "tags": []
   },
   "outputs": [
    {
     "data": {
      "text/html": [
       "<div>\n",
       "<style scoped>\n",
       "    .dataframe tbody tr th:only-of-type {\n",
       "        vertical-align: middle;\n",
       "    }\n",
       "\n",
       "    .dataframe tbody tr th {\n",
       "        vertical-align: top;\n",
       "    }\n",
       "\n",
       "    .dataframe thead th {\n",
       "        text-align: right;\n",
       "    }\n",
       "</style>\n",
       "<table border=\"1\" class=\"dataframe\">\n",
       "  <thead>\n",
       "    <tr style=\"text-align: right;\">\n",
       "      <th></th>\n",
       "      <th>Sex</th>\n",
       "      <th>Survived</th>\n",
       "    </tr>\n",
       "  </thead>\n",
       "  <tbody>\n",
       "    <tr>\n",
       "      <th>0</th>\n",
       "      <td>female</td>\n",
       "      <td>0.742038</td>\n",
       "    </tr>\n",
       "    <tr>\n",
       "      <th>1</th>\n",
       "      <td>male</td>\n",
       "      <td>0.188908</td>\n",
       "    </tr>\n",
       "  </tbody>\n",
       "</table>\n",
       "</div>"
      ],
      "text/plain": [
       "      Sex  Survived\n",
       "0  female  0.742038\n",
       "1    male  0.188908"
      ]
     },
     "execution_count": 12,
     "metadata": {},
     "output_type": "execute_result"
    }
   ],
   "source": [
    "#mean of survival by sex\n",
    "train_data[['Sex', 'Survived']].groupby('Sex', as_index = False).mean().sort_values(by= 'Survived', ascending = False)"
   ]
  },
  {
   "cell_type": "code",
   "execution_count": 13,
   "id": "7a77ba9b",
   "metadata": {
    "_cell_guid": "3ddcceb5-dcf9-42f7-8f01-79792c288b8b",
    "_uuid": "e211e419-459a-4abb-957b-3df1003a3a42",
    "collapsed": false,
    "execution": {
     "iopub.execute_input": "2023-11-27T01:35:18.167961Z",
     "iopub.status.busy": "2023-11-27T01:35:18.167474Z",
     "iopub.status.idle": "2023-11-27T01:35:18.575541Z",
     "shell.execute_reply": "2023-11-27T01:35:18.574482Z"
    },
    "jupyter": {
     "outputs_hidden": false
    },
    "papermill": {
     "duration": 0.439265,
     "end_time": "2023-11-27T01:35:18.578654",
     "exception": false,
     "start_time": "2023-11-27T01:35:18.139389",
     "status": "completed"
    },
    "tags": []
   },
   "outputs": [
    {
     "data": {
      "text/plain": [
       "Text(0.5, 1.0, 'Survival Probability by Sex')"
      ]
     },
     "execution_count": 13,
     "metadata": {},
     "output_type": "execute_result"
    },
    {
     "data": {
      "image/png": "[encoded data removed]",
      "text/plain": [
       "<Figure size 640x480 with 1 Axes>"
      ]
     },
     "metadata": {},
     "output_type": "display_data"
    }
   ],
   "source": [
    "sns.barplot(x='Sex', y='Survived', data = train_data)\n",
    "plt.ylabel('Survival Probability')\n",
    "plt.title('Survival Probability by Sex')"
   ]
  },
  {
   "cell_type": "code",
   "execution_count": 14,
   "id": "5d9687ef",
   "metadata": {
    "_cell_guid": "73aa40fe-386e-4df2-8a64-9866aec322f6",
    "_uuid": "a2b024a4-a58a-4468-a99e-713ca455ef08",
    "collapsed": false,
    "execution": {
     "iopub.execute_input": "2023-11-27T01:35:18.634604Z",
     "iopub.status.busy": "2023-11-27T01:35:18.633324Z",
     "iopub.status.idle": "2023-11-27T01:35:18.642587Z",
     "shell.execute_reply": "2023-11-27T01:35:18.641441Z"
    },
    "jupyter": {
     "outputs_hidden": false
    },
    "papermill": {
     "duration": 0.040031,
     "end_time": "2023-11-27T01:35:18.645255",
     "exception": false,
     "start_time": "2023-11-27T01:35:18.605224",
     "status": "completed"
    },
    "tags": []
   },
   "outputs": [
    {
     "data": {
      "text/plain": [
       "Pclass\n",
       "3    491\n",
       "1    216\n",
       "2    184\n",
       "Name: count, dtype: int64"
      ]
     },
     "execution_count": 14,
     "metadata": {},
     "output_type": "execute_result"
    }
   ],
   "source": [
    "#categorical variable Pclass\n",
    "#getting counts of the Pclass column\n",
    "train_data['Pclass'].value_counts(dropna = False)"
   ]
  },
  {
   "cell_type": "code",
   "execution_count": 15,
   "id": "b04e5428",
   "metadata": {
    "_cell_guid": "237f49b6-a2ca-4d8c-b086-39dd2036acf2",
    "_uuid": "2cad7f09-110a-4d81-bacf-154e6f2a312b",
    "collapsed": false,
    "execution": {
     "iopub.execute_input": "2023-11-27T01:35:18.704557Z",
     "iopub.status.busy": "2023-11-27T01:35:18.703664Z",
     "iopub.status.idle": "2023-11-27T01:35:18.719660Z",
     "shell.execute_reply": "2023-11-27T01:35:18.718358Z"
    },
    "jupyter": {
     "outputs_hidden": false
    },
    "papermill": {
     "duration": 0.049781,
     "end_time": "2023-11-27T01:35:18.722589",
     "exception": false,
     "start_time": "2023-11-27T01:35:18.672808",
     "status": "completed"
    },
    "tags": []
   },
   "outputs": [
    {
     "data": {
      "text/html": [
       "<div>\n",
       "<style scoped>\n",
       "    .dataframe tbody tr th:only-of-type {\n",
       "        vertical-align: middle;\n",
       "    }\n",
       "\n",
       "    .dataframe tbody tr th {\n",
       "        vertical-align: top;\n",
       "    }\n",
       "\n",
       "    .dataframe thead th {\n",
       "        text-align: right;\n",
       "    }\n",
       "</style>\n",
       "<table border=\"1\" class=\"dataframe\">\n",
       "  <thead>\n",
       "    <tr style=\"text-align: right;\">\n",
       "      <th></th>\n",
       "      <th>Pclass</th>\n",
       "      <th>Survived</th>\n",
       "    </tr>\n",
       "  </thead>\n",
       "  <tbody>\n",
       "    <tr>\n",
       "      <th>0</th>\n",
       "      <td>1</td>\n",
       "      <td>0.629630</td>\n",
       "    </tr>\n",
       "    <tr>\n",
       "      <th>1</th>\n",
       "      <td>2</td>\n",
       "      <td>0.472826</td>\n",
       "    </tr>\n",
       "    <tr>\n",
       "      <th>2</th>\n",
       "      <td>3</td>\n",
       "      <td>0.242363</td>\n",
       "    </tr>\n",
       "  </tbody>\n",
       "</table>\n",
       "</div>"
      ],
      "text/plain": [
       "   Pclass  Survived\n",
       "0       1  0.629630\n",
       "1       2  0.472826\n",
       "2       3  0.242363"
      ]
     },
     "execution_count": 15,
     "metadata": {},
     "output_type": "execute_result"
    }
   ],
   "source": [
    "train_data[['Pclass', 'Survived']].groupby('Pclass', as_index = False).mean().sort_values(by= 'Survived', ascending = False)"
   ]
  },
  {
   "cell_type": "code",
   "execution_count": 16,
   "id": "ae54ddba",
   "metadata": {
    "_cell_guid": "266c2984-8ff9-4bfa-93cd-fe6198bb9bba",
    "_uuid": "8ee04a5f-ea21-4975-a400-06e72c70d018",
    "collapsed": false,
    "execution": {
     "iopub.execute_input": "2023-11-27T01:35:18.779803Z",
     "iopub.status.busy": "2023-11-27T01:35:18.779295Z",
     "iopub.status.idle": "2023-11-27T01:35:19.226971Z",
     "shell.execute_reply": "2023-11-27T01:35:19.225836Z"
    },
    "jupyter": {
     "outputs_hidden": false
    },
    "papermill": {
     "duration": 0.479956,
     "end_time": "2023-11-27T01:35:19.229769",
     "exception": false,
     "start_time": "2023-11-27T01:35:18.749813",
     "status": "completed"
    },
    "tags": []
   },
   "outputs": [
    {
     "data": {
      "text/plain": [
       "Text(0.5, 1.0, 'Survival Probability by Pclass')"
      ]
     },
     "execution_count": 16,
     "metadata": {},
     "output_type": "execute_result"
    },
    {
     "data": {
      "image/png": "[encoded data removed]",
      "text/plain": [
       "<Figure size 640x480 with 1 Axes>"
      ]
     },
     "metadata": {},
     "output_type": "display_data"
    }
   ],
   "source": [
    "sns.barplot(x='Pclass', y='Survived', data = train_data)\n",
    "plt.ylabel('Survival Probability')\n",
    "plt.title('Survival Probability by Pclass')"
   ]
  },
  {
   "cell_type": "code",
   "execution_count": 17,
   "id": "a769592a",
   "metadata": {
    "_cell_guid": "449eccd5-433b-449b-92ae-5093cc33dd56",
    "_uuid": "4943aa39-8d3a-466f-b8a3-d2d95e941154",
    "collapsed": false,
    "execution": {
     "iopub.execute_input": "2023-11-27T01:35:19.289437Z",
     "iopub.status.busy": "2023-11-27T01:35:19.288577Z",
     "iopub.status.idle": "2023-11-27T01:35:19.298234Z",
     "shell.execute_reply": "2023-11-27T01:35:19.296934Z"
    },
    "jupyter": {
     "outputs_hidden": false
    },
    "papermill": {
     "duration": 0.043103,
     "end_time": "2023-11-27T01:35:19.300842",
     "exception": false,
     "start_time": "2023-11-27T01:35:19.257739",
     "status": "completed"
    },
    "tags": []
   },
   "outputs": [
    {
     "data": {
      "text/plain": [
       "Embarked\n",
       "S      644\n",
       "C      168\n",
       "Q       77\n",
       "NaN      2\n",
       "Name: count, dtype: int64"
      ]
     },
     "execution_count": 17,
     "metadata": {},
     "output_type": "execute_result"
    }
   ],
   "source": [
    "#categorical variable Embarked\n",
    "#getting counts of the Embarked column \n",
    "train_data['Embarked'].value_counts(dropna = False)"
   ]
  },
  {
   "cell_type": "code",
   "execution_count": 18,
   "id": "dffa47dd",
   "metadata": {
    "_cell_guid": "a1f15a3d-6345-4a69-9f96-f706935e1be1",
    "_uuid": "1f48f2e8-b1de-4f3c-af4c-b9a4835a0ed6",
    "collapsed": false,
    "execution": {
     "iopub.execute_input": "2023-11-27T01:35:19.359302Z",
     "iopub.status.busy": "2023-11-27T01:35:19.358800Z",
     "iopub.status.idle": "2023-11-27T01:35:19.375380Z",
     "shell.execute_reply": "2023-11-27T01:35:19.374170Z"
    },
    "jupyter": {
     "outputs_hidden": false
    },
    "papermill": {
     "duration": 0.048572,
     "end_time": "2023-11-27T01:35:19.377998",
     "exception": false,
     "start_time": "2023-11-27T01:35:19.329426",
     "status": "completed"
    },
    "tags": []
   },
   "outputs": [
    {
     "data": {
      "text/html": [
       "<div>\n",
       "<style scoped>\n",
       "    .dataframe tbody tr th:only-of-type {\n",
       "        vertical-align: middle;\n",
       "    }\n",
       "\n",
       "    .dataframe tbody tr th {\n",
       "        vertical-align: top;\n",
       "    }\n",
       "\n",
       "    .dataframe thead th {\n",
       "        text-align: right;\n",
       "    }\n",
       "</style>\n",
       "<table border=\"1\" class=\"dataframe\">\n",
       "  <thead>\n",
       "    <tr style=\"text-align: right;\">\n",
       "      <th></th>\n",
       "      <th>Embarked</th>\n",
       "      <th>Survived</th>\n",
       "    </tr>\n",
       "  </thead>\n",
       "  <tbody>\n",
       "    <tr>\n",
       "      <th>0</th>\n",
       "      <td>C</td>\n",
       "      <td>0.553571</td>\n",
       "    </tr>\n",
       "    <tr>\n",
       "      <th>1</th>\n",
       "      <td>Q</td>\n",
       "      <td>0.389610</td>\n",
       "    </tr>\n",
       "    <tr>\n",
       "      <th>2</th>\n",
       "      <td>S</td>\n",
       "      <td>0.336957</td>\n",
       "    </tr>\n",
       "  </tbody>\n",
       "</table>\n",
       "</div>"
      ],
      "text/plain": [
       "  Embarked  Survived\n",
       "0        C  0.553571\n",
       "1        Q  0.389610\n",
       "2        S  0.336957"
      ]
     },
     "execution_count": 18,
     "metadata": {},
     "output_type": "execute_result"
    }
   ],
   "source": [
    "train_data[['Embarked', 'Survived']].groupby('Embarked', as_index = False).mean().sort_values(by= 'Survived', ascending = False)"
   ]
  },
  {
   "cell_type": "code",
   "execution_count": 19,
   "id": "865f1beb",
   "metadata": {
    "_cell_guid": "86d13889-5068-4df3-ab3c-da9d0d7a5c2b",
    "_uuid": "ebeffe8e-79e5-4686-a4ea-6b42586d458a",
    "collapsed": false,
    "execution": {
     "iopub.execute_input": "2023-11-27T01:35:19.436711Z",
     "iopub.status.busy": "2023-11-27T01:35:19.436204Z",
     "iopub.status.idle": "2023-11-27T01:35:19.867337Z",
     "shell.execute_reply": "2023-11-27T01:35:19.865786Z"
    },
    "jupyter": {
     "outputs_hidden": false
    },
    "papermill": {
     "duration": 0.464733,
     "end_time": "2023-11-27T01:35:19.870568",
     "exception": false,
     "start_time": "2023-11-27T01:35:19.405835",
     "status": "completed"
    },
    "tags": []
   },
   "outputs": [
    {
     "data": {
      "text/plain": [
       "Text(0.5, 1.0, 'Survival Probability by Embarkation Port')"
      ]
     },
     "execution_count": 19,
     "metadata": {},
     "output_type": "execute_result"
    },
    {
     "data": {
      "image/png": "[encoded data removed]",
      "text/plain": [
       "<Figure size 640x480 with 1 Axes>"
      ]
     },
     "metadata": {},
     "output_type": "display_data"
    }
   ],
   "source": [
    "sns.barplot(x='Embarked', y='Survived', data = train_data)\n",
    "plt.ylabel('Survival Probability')\n",
    "plt.title('Survival Probability by Embarkation Port')"
   ]
  },
  {
   "cell_type": "markdown",
   "id": "147e71e8",
   "metadata": {
    "_cell_guid": "82101fcd-a980-411a-a6a2-c91392989a3d",
    "_uuid": "9a29d868-e7b1-493a-a608-90c528a55000",
    "papermill": {
     "duration": 0.027969,
     "end_time": "2023-11-27T01:35:19.926861",
     "exception": false,
     "start_time": "2023-11-27T01:35:19.898892",
     "status": "completed"
    },
    "tags": []
   },
   "source": [
    "# 2. Data Preprocessing"
   ]
  },
  {
   "cell_type": "markdown",
   "id": "97a5ae67",
   "metadata": {
    "_cell_guid": "141b2311-e3eb-4e9d-868b-065cecdceebe",
    "_uuid": "69ad39f1-7709-45bc-b11e-60eaf8b5b27e",
    "papermill": {
     "duration": 0.027891,
     "end_time": "2023-11-27T01:35:19.982872",
     "exception": false,
     "start_time": "2023-11-27T01:35:19.954981",
     "status": "completed"
    },
    "tags": []
   },
   "source": [
    "# 2.1) Dropping variables and fill missing values"
   ]
  },
  {
   "cell_type": "code",
   "execution_count": 20,
   "id": "7f924f16",
   "metadata": {
    "_cell_guid": "1481962a-7da9-4423-a377-3d3186548959",
    "_uuid": "ca7c41b4-3209-4f39-89ba-8dac9976b322",
    "collapsed": false,
    "execution": {
     "iopub.execute_input": "2023-11-27T01:35:20.043984Z",
     "iopub.status.busy": "2023-11-27T01:35:20.043492Z",
     "iopub.status.idle": "2023-11-27T01:35:20.052727Z",
     "shell.execute_reply": "2023-11-27T01:35:20.051435Z"
    },
    "jupyter": {
     "outputs_hidden": false
    },
    "papermill": {
     "duration": 0.042395,
     "end_time": "2023-11-27T01:35:20.055420",
     "exception": false,
     "start_time": "2023-11-27T01:35:20.013025",
     "status": "completed"
    },
    "tags": []
   },
   "outputs": [],
   "source": [
    "#will drop Cabin and Ticket variables\n",
    "train_data = train_data.drop(['Cabin', 'Ticket'], axis = 1)\n",
    "test_data = test_data.drop(['Cabin', 'Ticket'], axis = 1)"
   ]
  },
  {
   "cell_type": "code",
   "execution_count": 21,
   "id": "689e73e7",
   "metadata": {
    "_cell_guid": "544eee5c-c9ff-48a4-a260-410204b3722b",
    "_uuid": "72580fec-4178-4d35-b18d-87e7d13b7abf",
    "collapsed": false,
    "execution": {
     "iopub.execute_input": "2023-11-27T01:35:20.114500Z",
     "iopub.status.busy": "2023-11-27T01:35:20.113973Z",
     "iopub.status.idle": "2023-11-27T01:35:20.125926Z",
     "shell.execute_reply": "2023-11-27T01:35:20.124613Z"
    },
    "jupyter": {
     "outputs_hidden": false
    },
    "papermill": {
     "duration": 0.044657,
     "end_time": "2023-11-27T01:35:20.128562",
     "exception": false,
     "start_time": "2023-11-27T01:35:20.083905",
     "status": "completed"
    },
    "tags": []
   },
   "outputs": [
    {
     "data": {
      "text/plain": [
       "Age            177\n",
       "Embarked         2\n",
       "PassengerId      0\n",
       "Survived         0\n",
       "Pclass           0\n",
       "Name             0\n",
       "Sex              0\n",
       "SibSp            0\n",
       "Parch            0\n",
       "Fare             0\n",
       "dtype: int64"
      ]
     },
     "execution_count": 21,
     "metadata": {},
     "output_type": "execute_result"
    }
   ],
   "source": [
    "#checking missing values of train_data\n",
    "train_data.isnull().sum().sort_values(ascending = False)"
   ]
  },
  {
   "cell_type": "code",
   "execution_count": 22,
   "id": "5604cebc",
   "metadata": {
    "_cell_guid": "44bbe41d-0d9a-4b88-9e84-0b10c8e1d651",
    "_uuid": "c07b1a81-bb69-4a46-8080-f6523b95674e",
    "collapsed": false,
    "execution": {
     "iopub.execute_input": "2023-11-27T01:35:20.188095Z",
     "iopub.status.busy": "2023-11-27T01:35:20.187571Z",
     "iopub.status.idle": "2023-11-27T01:35:20.196297Z",
     "shell.execute_reply": "2023-11-27T01:35:20.195011Z"
    },
    "jupyter": {
     "outputs_hidden": false
    },
    "papermill": {
     "duration": 0.04176,
     "end_time": "2023-11-27T01:35:20.198741",
     "exception": false,
     "start_time": "2023-11-27T01:35:20.156981",
     "status": "completed"
    },
    "tags": []
   },
   "outputs": [],
   "source": [
    "#fill missing embarked with the most frequent location\n",
    "most_freq = train_data['Embarked'].dropna().mode()[0]\n",
    "train_data['Embarked'].fillna(most_freq, inplace = True)"
   ]
  },
  {
   "cell_type": "code",
   "execution_count": 23,
   "id": "3690ccbf",
   "metadata": {
    "_cell_guid": "9773c836-5711-4966-888f-c7d1a51708bf",
    "_uuid": "90faa92a-063b-4f53-9876-ce94169d356f",
    "collapsed": false,
    "execution": {
     "iopub.execute_input": "2023-11-27T01:35:20.260148Z",
     "iopub.status.busy": "2023-11-27T01:35:20.259669Z",
     "iopub.status.idle": "2023-11-27T01:35:20.269931Z",
     "shell.execute_reply": "2023-11-27T01:35:20.268934Z"
    },
    "jupyter": {
     "outputs_hidden": false
    },
    "papermill": {
     "duration": 0.043011,
     "end_time": "2023-11-27T01:35:20.272215",
     "exception": false,
     "start_time": "2023-11-27T01:35:20.229204",
     "status": "completed"
    },
    "tags": []
   },
   "outputs": [
    {
     "data": {
      "text/plain": [
       "Age            86\n",
       "Fare            1\n",
       "PassengerId     0\n",
       "Pclass          0\n",
       "Name            0\n",
       "Sex             0\n",
       "SibSp           0\n",
       "Parch           0\n",
       "Embarked        0\n",
       "dtype: int64"
      ]
     },
     "execution_count": 23,
     "metadata": {},
     "output_type": "execute_result"
    }
   ],
   "source": [
    "#check missing values of test_data\n",
    "test_data.isnull().sum().sort_values(ascending = False)"
   ]
  },
  {
   "cell_type": "code",
   "execution_count": 24,
   "id": "fe03eaf7",
   "metadata": {
    "_cell_guid": "d3f5ab9b-92a8-4d9f-95c4-adef2822d8fa",
    "_uuid": "3692d842-1e75-4729-b966-daf49722f108",
    "collapsed": false,
    "execution": {
     "iopub.execute_input": "2023-11-27T01:35:20.332777Z",
     "iopub.status.busy": "2023-11-27T01:35:20.332274Z",
     "iopub.status.idle": "2023-11-27T01:35:20.340524Z",
     "shell.execute_reply": "2023-11-27T01:35:20.339386Z"
    },
    "jupyter": {
     "outputs_hidden": false
    },
    "papermill": {
     "duration": 0.042076,
     "end_time": "2023-11-27T01:35:20.342775",
     "exception": false,
     "start_time": "2023-11-27T01:35:20.300699",
     "status": "completed"
    },
    "tags": []
   },
   "outputs": [],
   "source": [
    "#get median of fare and fill\n",
    "fare_median = test_data['Fare'].dropna().median()\n",
    "test_data['Fare'].fillna(fare_median, inplace = True)"
   ]
  },
  {
   "cell_type": "code",
   "execution_count": 25,
   "id": "667f6706",
   "metadata": {
    "_cell_guid": "5e3dad50-374a-4de9-a82f-e2e6fa53f346",
    "_uuid": "e72e5d54-8c79-4ab3-859a-8e07190808ae",
    "collapsed": false,
    "execution": {
     "iopub.execute_input": "2023-11-27T01:35:20.401967Z",
     "iopub.status.busy": "2023-11-27T01:35:20.401466Z",
     "iopub.status.idle": "2023-11-27T01:35:20.418983Z",
     "shell.execute_reply": "2023-11-27T01:35:20.417768Z"
    },
    "jupyter": {
     "outputs_hidden": false
    },
    "papermill": {
     "duration": 0.050548,
     "end_time": "2023-11-27T01:35:20.421788",
     "exception": false,
     "start_time": "2023-11-27T01:35:20.371240",
     "status": "completed"
    },
    "tags": []
   },
   "outputs": [
    {
     "data": {
      "text/plain": [
       "Survived       418\n",
       "Age            263\n",
       "PassengerId      0\n",
       "Pclass           0\n",
       "Name             0\n",
       "Sex              0\n",
       "SibSp            0\n",
       "Parch            0\n",
       "Fare             0\n",
       "Embarked         0\n",
       "dtype: int64"
      ]
     },
     "execution_count": 25,
     "metadata": {},
     "output_type": "execute_result"
    }
   ],
   "source": [
    "#will combine the training set and test set to fill in the missing ages\n",
    "combined_df = pd.concat([train_data, test_data], axis = 0).reset_index(drop = True)\n",
    "combined_df.isnull().sum().sort_values(ascending = False)"
   ]
  },
  {
   "cell_type": "code",
   "execution_count": 26,
   "id": "0a9ba55a",
   "metadata": {
    "_cell_guid": "95e413df-4d15-41e3-811d-c073025395a2",
    "_uuid": "8bcc6111-4ddc-481f-9ad1-277284923e53",
    "collapsed": false,
    "execution": {
     "iopub.execute_input": "2023-11-27T01:35:20.482668Z",
     "iopub.status.busy": "2023-11-27T01:35:20.481968Z",
     "iopub.status.idle": "2023-11-27T01:35:20.496574Z",
     "shell.execute_reply": "2023-11-27T01:35:20.495252Z"
    },
    "jupyter": {
     "outputs_hidden": false
    },
    "papermill": {
     "duration": 0.048013,
     "end_time": "2023-11-27T01:35:20.499018",
     "exception": false,
     "start_time": "2023-11-27T01:35:20.451005",
     "status": "completed"
    },
    "tags": []
   },
   "outputs": [
    {
     "data": {
      "text/plain": [
       "Survived       418\n",
       "PassengerId      0\n",
       "Pclass           0\n",
       "Name             0\n",
       "Sex              0\n",
       "Age              0\n",
       "SibSp            0\n",
       "Parch            0\n",
       "Fare             0\n",
       "Embarked         0\n",
       "dtype: int64"
      ]
     },
     "execution_count": 26,
     "metadata": {},
     "output_type": "execute_result"
    }
   ],
   "source": [
    "median_age = combined_df['Age'].median()\n",
    "combined_df['Age'].fillna(median_age, inplace = True)\n",
    "combined_df.isnull().sum().sort_values(ascending = False)"
   ]
  },
  {
   "cell_type": "markdown",
   "id": "9d85bad0",
   "metadata": {
    "_cell_guid": "af74dd1b-8a02-4bd9-896c-d52a1beaf4e1",
    "_uuid": "89549b5a-f305-4594-a176-ebe9f82b2f46",
    "papermill": {
     "duration": 0.02864,
     "end_time": "2023-11-27T01:35:20.557664",
     "exception": false,
     "start_time": "2023-11-27T01:35:20.529024",
     "status": "completed"
    },
    "tags": []
   },
   "source": [
    "Now we no longer have missing values in our test and training sets. Will ignore the missing \"Survived\" because"
   ]
  },
  {
   "cell_type": "markdown",
   "id": "42824879",
   "metadata": {
    "_cell_guid": "e2db34f7-863d-43e9-9a49-6253c6767e4c",
    "_uuid": "c6aea93c-34c3-4891-8327-ae6973286e2f",
    "papermill": {
     "duration": 0.028665,
     "end_time": "2023-11-27T01:35:20.615414",
     "exception": false,
     "start_time": "2023-11-27T01:35:20.586749",
     "status": "completed"
    },
    "tags": []
   },
   "source": [
    "# 2.2) Data Transformation"
   ]
  },
  {
   "cell_type": "code",
   "execution_count": 27,
   "id": "dcba82a7",
   "metadata": {
    "_cell_guid": "2d3f593f-8847-4574-979a-dce784f842a4",
    "_uuid": "55408f37-7a90-4634-a443-f93882626fb9",
    "collapsed": false,
    "execution": {
     "iopub.execute_input": "2023-11-27T01:35:20.675825Z",
     "iopub.status.busy": "2023-11-27T01:35:20.675382Z",
     "iopub.status.idle": "2023-11-27T01:35:20.682670Z",
     "shell.execute_reply": "2023-11-27T01:35:20.681401Z"
    },
    "jupyter": {
     "outputs_hidden": false
    },
    "papermill": {
     "duration": 0.040836,
     "end_time": "2023-11-27T01:35:20.685280",
     "exception": false,
     "start_time": "2023-11-27T01:35:20.644444",
     "status": "completed"
    },
    "tags": []
   },
   "outputs": [],
   "source": [
    "#convert the Sex column from 'male' and 'female' to 0 = male and 1 = female\n",
    "combined_df['Sex'] = combined_df['Sex'].map({'male': 0, 'female': 1})"
   ]
  },
  {
   "cell_type": "code",
   "execution_count": 28,
   "id": "e0b5dc3d",
   "metadata": {
    "_cell_guid": "e14cd778-6374-4a13-bf7f-99fa433a073d",
    "_uuid": "256a0dc3-f019-4d30-b07d-e8538b744d2c",
    "collapsed": false,
    "execution": {
     "iopub.execute_input": "2023-11-27T01:35:20.745992Z",
     "iopub.status.busy": "2023-11-27T01:35:20.745467Z",
     "iopub.status.idle": "2023-11-27T01:35:20.756776Z",
     "shell.execute_reply": "2023-11-27T01:35:20.755390Z"
    },
    "jupyter": {
     "outputs_hidden": false
    },
    "papermill": {
     "duration": 0.044933,
     "end_time": "2023-11-27T01:35:20.759595",
     "exception": false,
     "start_time": "2023-11-27T01:35:20.714662",
     "status": "completed"
    },
    "tags": []
   },
   "outputs": [],
   "source": [
    "#normalize the Fare column with log transformation\n",
    "combined_df['Fare'] = combined_df['Fare'].map(lambda x: np.log(x) if x > 0 else 0)"
   ]
  },
  {
   "cell_type": "code",
   "execution_count": 29,
   "id": "c9f4ef56",
   "metadata": {
    "_cell_guid": "7b856651-5d0a-440b-8d09-05f11f427ce9",
    "_uuid": "d0fce7a7-3330-44a4-9a38-2c6257284ca8",
    "collapsed": false,
    "execution": {
     "iopub.execute_input": "2023-11-27T01:35:20.822231Z",
     "iopub.status.busy": "2023-11-27T01:35:20.820881Z",
     "iopub.status.idle": "2023-11-27T01:35:21.123754Z",
     "shell.execute_reply": "2023-11-27T01:35:21.122393Z"
    },
    "jupyter": {
     "outputs_hidden": false
    },
    "papermill": {
     "duration": 0.337124,
     "end_time": "2023-11-27T01:35:21.126726",
     "exception": false,
     "start_time": "2023-11-27T01:35:20.789602",
     "status": "completed"
    },
    "tags": []
   },
   "outputs": [
    {
     "data": {
      "image/png": "[encoded data removed]",
      "text/plain": [
       "<Figure size 640x480 with 1 Axes>"
      ]
     },
     "metadata": {},
     "output_type": "display_data"
    }
   ],
   "source": [
    "plt.hist(combined_df['Fare'])\n",
    "plt.title('Normalized Fare')\n",
    "plt.show()"
   ]
  },
  {
   "cell_type": "markdown",
   "id": "b7166935",
   "metadata": {
    "_cell_guid": "a1b6bce9-e58a-4575-bc98-63d16252d958",
    "_uuid": "290b285b-68d2-4eb7-b581-aa895b03fa1a",
    "papermill": {
     "duration": 0.029578,
     "end_time": "2023-11-27T01:35:21.186564",
     "exception": false,
     "start_time": "2023-11-27T01:35:21.156986",
     "status": "completed"
    },
    "tags": []
   },
   "source": [
    "# 3. Feature Engineering"
   ]
  },
  {
   "cell_type": "code",
   "execution_count": 30,
   "id": "feab0810",
   "metadata": {
    "_cell_guid": "4088381c-a20c-43eb-8f68-d7dd7fe1bddf",
    "_uuid": "00a1ccb9-91e5-4365-858c-6ed524f20c8d",
    "collapsed": false,
    "execution": {
     "iopub.execute_input": "2023-11-27T01:35:21.248398Z",
     "iopub.status.busy": "2023-11-27T01:35:21.247869Z",
     "iopub.status.idle": "2023-11-27T01:35:21.266539Z",
     "shell.execute_reply": "2023-11-27T01:35:21.265346Z"
    },
    "jupyter": {
     "outputs_hidden": false
    },
    "papermill": {
     "duration": 0.053358,
     "end_time": "2023-11-27T01:35:21.268952",
     "exception": false,
     "start_time": "2023-11-27T01:35:21.215594",
     "status": "completed"
    },
    "tags": []
   },
   "outputs": [
    {
     "data": {
      "text/html": [
       "<div>\n",
       "<style scoped>\n",
       "    .dataframe tbody tr th:only-of-type {\n",
       "        vertical-align: middle;\n",
       "    }\n",
       "\n",
       "    .dataframe tbody tr th {\n",
       "        vertical-align: top;\n",
       "    }\n",
       "\n",
       "    .dataframe thead th {\n",
       "        text-align: right;\n",
       "    }\n",
       "</style>\n",
       "<table border=\"1\" class=\"dataframe\">\n",
       "  <thead>\n",
       "    <tr style=\"text-align: right;\">\n",
       "      <th></th>\n",
       "      <th>PassengerId</th>\n",
       "      <th>Survived</th>\n",
       "      <th>Pclass</th>\n",
       "      <th>Name</th>\n",
       "      <th>Sex</th>\n",
       "      <th>Age</th>\n",
       "      <th>SibSp</th>\n",
       "      <th>Parch</th>\n",
       "      <th>Fare</th>\n",
       "      <th>Embarked</th>\n",
       "    </tr>\n",
       "  </thead>\n",
       "  <tbody>\n",
       "    <tr>\n",
       "      <th>0</th>\n",
       "      <td>1</td>\n",
       "      <td>0.0</td>\n",
       "      <td>3</td>\n",
       "      <td>Braund, Mr. Owen Harris</td>\n",
       "      <td>0</td>\n",
       "      <td>22.0</td>\n",
       "      <td>1</td>\n",
       "      <td>0</td>\n",
       "      <td>1.981001</td>\n",
       "      <td>S</td>\n",
       "    </tr>\n",
       "    <tr>\n",
       "      <th>1</th>\n",
       "      <td>2</td>\n",
       "      <td>1.0</td>\n",
       "      <td>1</td>\n",
       "      <td>Cumings, Mrs. John Bradley (Florence Briggs Th...</td>\n",
       "      <td>1</td>\n",
       "      <td>38.0</td>\n",
       "      <td>1</td>\n",
       "      <td>0</td>\n",
       "      <td>4.266662</td>\n",
       "      <td>C</td>\n",
       "    </tr>\n",
       "    <tr>\n",
       "      <th>2</th>\n",
       "      <td>3</td>\n",
       "      <td>1.0</td>\n",
       "      <td>3</td>\n",
       "      <td>Heikkinen, Miss. Laina</td>\n",
       "      <td>1</td>\n",
       "      <td>26.0</td>\n",
       "      <td>0</td>\n",
       "      <td>0</td>\n",
       "      <td>2.070022</td>\n",
       "      <td>S</td>\n",
       "    </tr>\n",
       "    <tr>\n",
       "      <th>3</th>\n",
       "      <td>4</td>\n",
       "      <td>1.0</td>\n",
       "      <td>1</td>\n",
       "      <td>Futrelle, Mrs. Jacques Heath (Lily May Peel)</td>\n",
       "      <td>1</td>\n",
       "      <td>35.0</td>\n",
       "      <td>1</td>\n",
       "      <td>0</td>\n",
       "      <td>3.972177</td>\n",
       "      <td>S</td>\n",
       "    </tr>\n",
       "    <tr>\n",
       "      <th>4</th>\n",
       "      <td>5</td>\n",
       "      <td>0.0</td>\n",
       "      <td>3</td>\n",
       "      <td>Allen, Mr. William Henry</td>\n",
       "      <td>0</td>\n",
       "      <td>35.0</td>\n",
       "      <td>0</td>\n",
       "      <td>0</td>\n",
       "      <td>2.085672</td>\n",
       "      <td>S</td>\n",
       "    </tr>\n",
       "  </tbody>\n",
       "</table>\n",
       "</div>"
      ],
      "text/plain": [
       "   PassengerId  Survived  Pclass  \\\n",
       "0            1       0.0       3   \n",
       "1            2       1.0       1   \n",
       "2            3       1.0       3   \n",
       "3            4       1.0       1   \n",
       "4            5       0.0       3   \n",
       "\n",
       "                                                Name  Sex   Age  SibSp  Parch  \\\n",
       "0                            Braund, Mr. Owen Harris    0  22.0      1      0   \n",
       "1  Cumings, Mrs. John Bradley (Florence Briggs Th...    1  38.0      1      0   \n",
       "2                             Heikkinen, Miss. Laina    1  26.0      0      0   \n",
       "3       Futrelle, Mrs. Jacques Heath (Lily May Peel)    1  35.0      1      0   \n",
       "4                           Allen, Mr. William Henry    0  35.0      0      0   \n",
       "\n",
       "       Fare Embarked  \n",
       "0  1.981001        S  \n",
       "1  4.266662        C  \n",
       "2  2.070022        S  \n",
       "3  3.972177        S  \n",
       "4  2.085672        S  "
      ]
     },
     "execution_count": 30,
     "metadata": {},
     "output_type": "execute_result"
    }
   ],
   "source": [
    "combined_df.head()"
   ]
  },
  {
   "cell_type": "markdown",
   "id": "1238e381",
   "metadata": {
    "_cell_guid": "6f2f5072-3348-4cef-859e-1d96d3d7888c",
    "_uuid": "0c9f7e6b-a39d-442a-aa2b-37ffacd6fe9f",
    "papermill": {
     "duration": 0.029993,
     "end_time": "2023-11-27T01:35:21.328587",
     "exception": false,
     "start_time": "2023-11-27T01:35:21.298594",
     "status": "completed"
    },
    "tags": []
   },
   "source": [
    "# 3.1) Classifying Title"
   ]
  },
  {
   "cell_type": "code",
   "execution_count": 31,
   "id": "14165040",
   "metadata": {
    "_cell_guid": "b0b26854-85b8-49ad-b527-a4d617075229",
    "_uuid": "b71c36d1-1fe7-4a2e-8e98-0219d79a35b1",
    "collapsed": false,
    "execution": {
     "iopub.execute_input": "2023-11-27T01:35:21.390093Z",
     "iopub.status.busy": "2023-11-27T01:35:21.389295Z",
     "iopub.status.idle": "2023-11-27T01:35:21.405403Z",
     "shell.execute_reply": "2023-11-27T01:35:21.404126Z"
    },
    "jupyter": {
     "outputs_hidden": false
    },
    "papermill": {
     "duration": 0.050369,
     "end_time": "2023-11-27T01:35:21.408278",
     "exception": false,
     "start_time": "2023-11-27T01:35:21.357909",
     "status": "completed"
    },
    "tags": []
   },
   "outputs": [
    {
     "data": {
      "text/html": [
       "<div>\n",
       "<style scoped>\n",
       "    .dataframe tbody tr th:only-of-type {\n",
       "        vertical-align: middle;\n",
       "    }\n",
       "\n",
       "    .dataframe tbody tr th {\n",
       "        vertical-align: top;\n",
       "    }\n",
       "\n",
       "    .dataframe thead th {\n",
       "        text-align: right;\n",
       "    }\n",
       "</style>\n",
       "<table border=\"1\" class=\"dataframe\">\n",
       "  <thead>\n",
       "    <tr style=\"text-align: right;\">\n",
       "      <th></th>\n",
       "      <th>Name</th>\n",
       "      <th>Title</th>\n",
       "    </tr>\n",
       "  </thead>\n",
       "  <tbody>\n",
       "    <tr>\n",
       "      <th>0</th>\n",
       "      <td>Braund, Mr. Owen Harris</td>\n",
       "      <td>Mr</td>\n",
       "    </tr>\n",
       "    <tr>\n",
       "      <th>1</th>\n",
       "      <td>Cumings, Mrs. John Bradley (Florence Briggs Th...</td>\n",
       "      <td>Mrs</td>\n",
       "    </tr>\n",
       "    <tr>\n",
       "      <th>2</th>\n",
       "      <td>Heikkinen, Miss. Laina</td>\n",
       "      <td>Miss</td>\n",
       "    </tr>\n",
       "    <tr>\n",
       "      <th>3</th>\n",
       "      <td>Futrelle, Mrs. Jacques Heath (Lily May Peel)</td>\n",
       "      <td>Mrs</td>\n",
       "    </tr>\n",
       "    <tr>\n",
       "      <th>4</th>\n",
       "      <td>Allen, Mr. William Henry</td>\n",
       "      <td>Mr</td>\n",
       "    </tr>\n",
       "  </tbody>\n",
       "</table>\n",
       "</div>"
      ],
      "text/plain": [
       "                                                Name Title\n",
       "0                            Braund, Mr. Owen Harris    Mr\n",
       "1  Cumings, Mrs. John Bradley (Florence Briggs Th...   Mrs\n",
       "2                             Heikkinen, Miss. Laina  Miss\n",
       "3       Futrelle, Mrs. Jacques Heath (Lily May Peel)   Mrs\n",
       "4                           Allen, Mr. William Henry    Mr"
      ]
     },
     "execution_count": 31,
     "metadata": {},
     "output_type": "execute_result"
    }
   ],
   "source": [
    "combined_df['Title'] = [name.split(',')[1].split('.')[0].strip() for name in combined_df['Name']]\n",
    "combined_df[['Name', 'Title']].head()"
   ]
  },
  {
   "cell_type": "code",
   "execution_count": 32,
   "id": "3de3936f",
   "metadata": {
    "_cell_guid": "7239790b-0e76-4efa-97b0-dd64f5a4d36b",
    "_uuid": "5e37a150-1ead-48ca-9d36-945faf46830c",
    "collapsed": false,
    "execution": {
     "iopub.execute_input": "2023-11-27T01:35:21.470010Z",
     "iopub.status.busy": "2023-11-27T01:35:21.469527Z",
     "iopub.status.idle": "2023-11-27T01:35:21.480398Z",
     "shell.execute_reply": "2023-11-27T01:35:21.479335Z"
    },
    "jupyter": {
     "outputs_hidden": false
    },
    "papermill": {
     "duration": 0.044409,
     "end_time": "2023-11-27T01:35:21.482684",
     "exception": false,
     "start_time": "2023-11-27T01:35:21.438275",
     "status": "completed"
    },
    "tags": []
   },
   "outputs": [
    {
     "data": {
      "text/plain": [
       "Title\n",
       "Mr              757\n",
       "Miss            260\n",
       "Mrs             197\n",
       "Master           61\n",
       "Rev               8\n",
       "Dr                8\n",
       "Col               4\n",
       "Mlle              2\n",
       "Major             2\n",
       "Ms                2\n",
       "Lady              1\n",
       "Sir               1\n",
       "Mme               1\n",
       "Don               1\n",
       "Capt              1\n",
       "the Countess      1\n",
       "Jonkheer          1\n",
       "Dona              1\n",
       "Name: count, dtype: int64"
      ]
     },
     "execution_count": 32,
     "metadata": {},
     "output_type": "execute_result"
    }
   ],
   "source": [
    "combined_df['Title'].value_counts()"
   ]
  },
  {
   "cell_type": "code",
   "execution_count": 33,
   "id": "7f59bef7",
   "metadata": {
    "_cell_guid": "14a8c20e-5167-4864-8b55-225cb449fddd",
    "_uuid": "ded1c06c-ad99-455b-a667-79675ed2f6eb",
    "collapsed": false,
    "execution": {
     "iopub.execute_input": "2023-11-27T01:35:21.545591Z",
     "iopub.status.busy": "2023-11-27T01:35:21.544571Z",
     "iopub.status.idle": "2023-11-27T01:35:21.557423Z",
     "shell.execute_reply": "2023-11-27T01:35:21.556182Z"
    },
    "jupyter": {
     "outputs_hidden": false
    },
    "papermill": {
     "duration": 0.047498,
     "end_time": "2023-11-27T01:35:21.560376",
     "exception": false,
     "start_time": "2023-11-27T01:35:21.512878",
     "status": "completed"
    },
    "tags": []
   },
   "outputs": [],
   "source": [
    "#grouping titles\n",
    "combined_df['Title'] = combined_df['Title'].replace(['Rev', 'Dr', 'Col', 'Mlle', 'Major', 'Lady', 'Sir',\n",
    "                                                    'Mme','Don','Capt','the Countess','Jonkheer','Dona'], \n",
    "                                                    'Other')\n",
    "combined_df['Title'] = combined_df['Title'].replace(['Ms'], 'Miss' )\n",
    "\n",
    "#dropping Name variables\n",
    "combined_df = combined_df.drop(['Name'], axis = 1)"
   ]
  },
  {
   "cell_type": "code",
   "execution_count": 34,
   "id": "f785aa45",
   "metadata": {
    "_cell_guid": "9b74380b-c996-44f3-8050-fe97952fcd4d",
    "_uuid": "31182995-cbfc-4792-8c1c-ef6693de7c5d",
    "collapsed": false,
    "execution": {
     "iopub.execute_input": "2023-11-27T01:35:21.623253Z",
     "iopub.status.busy": "2023-11-27T01:35:21.622705Z",
     "iopub.status.idle": "2023-11-27T01:35:21.633497Z",
     "shell.execute_reply": "2023-11-27T01:35:21.632286Z"
    },
    "jupyter": {
     "outputs_hidden": false
    },
    "papermill": {
     "duration": 0.045515,
     "end_time": "2023-11-27T01:35:21.636307",
     "exception": false,
     "start_time": "2023-11-27T01:35:21.590792",
     "status": "completed"
    },
    "tags": []
   },
   "outputs": [
    {
     "data": {
      "text/plain": [
       "Title\n",
       "Mr        757\n",
       "Miss      262\n",
       "Mrs       197\n",
       "Master     61\n",
       "Other      32\n",
       "Name: count, dtype: int64"
      ]
     },
     "execution_count": 34,
     "metadata": {},
     "output_type": "execute_result"
    }
   ],
   "source": [
    "combined_df['Title'].value_counts(dropna = False)"
   ]
  },
  {
   "cell_type": "code",
   "execution_count": 35,
   "id": "40dd94e2",
   "metadata": {
    "_cell_guid": "fb4e8a18-85e2-4c45-b0ac-af5f30376d9e",
    "_uuid": "c739409b-7117-4908-a7a0-3bcf44d4e56e",
    "collapsed": false,
    "execution": {
     "iopub.execute_input": "2023-11-27T01:35:21.699722Z",
     "iopub.status.busy": "2023-11-27T01:35:21.698529Z",
     "iopub.status.idle": "2023-11-27T01:35:22.423408Z",
     "shell.execute_reply": "2023-11-27T01:35:22.422167Z"
    },
    "jupyter": {
     "outputs_hidden": false
    },
    "papermill": {
     "duration": 0.759322,
     "end_time": "2023-11-27T01:35:22.425963",
     "exception": false,
     "start_time": "2023-11-27T01:35:21.666641",
     "status": "completed"
    },
    "tags": []
   },
   "outputs": [
    {
     "name": "stdout",
     "output_type": "stream",
     "text": [
      "    Title  Survived\n",
      "3     Mrs  0.792000\n",
      "1    Miss  0.699454\n",
      "0  Master  0.575000\n",
      "4   Other  0.423077\n",
      "2      Mr  0.156673\n"
     ]
    },
    {
     "data": {
      "text/plain": [
       "Text(0.5, 1.0, 'Survival Probability by Title')"
      ]
     },
     "execution_count": 35,
     "metadata": {},
     "output_type": "execute_result"
    },
    {
     "data": {
      "image/png": "[encoded data removed]",
      "text/plain": [
       "<Figure size 640x480 with 1 Axes>"
      ]
     },
     "metadata": {},
     "output_type": "display_data"
    }
   ],
   "source": [
    "print(combined_df[['Title', 'Survived']].groupby('Title', as_index = False).mean().sort_values(by= 'Survived', ascending = False))\n",
    "sns.barplot(x= 'Title', y='Survived', data = combined_df)\n",
    "plt.ylabel('Survival Probability')\n",
    "plt.title('Survival Probability by Title')"
   ]
  },
  {
   "cell_type": "markdown",
   "id": "fc14a6d3",
   "metadata": {
    "_cell_guid": "47fc70e6-6f6c-4d3a-87c8-13013859521c",
    "_uuid": "7ec098f8-2297-458b-a41f-1a69b56ff9b1",
    "papermill": {
     "duration": 0.031067,
     "end_time": "2023-11-27T01:35:22.488156",
     "exception": false,
     "start_time": "2023-11-27T01:35:22.457089",
     "status": "completed"
    },
    "tags": []
   },
   "source": [
    "# 3.2) New isAlone Feature"
   ]
  },
  {
   "cell_type": "code",
   "execution_count": 36,
   "id": "22ecf5da",
   "metadata": {
    "_cell_guid": "b2b09418-ee61-46fe-89ab-fac2793f64f4",
    "_uuid": "2f594e04-7e3f-49bc-b1e1-a8b17bd72a5e",
    "collapsed": false,
    "execution": {
     "iopub.execute_input": "2023-11-27T01:35:22.554740Z",
     "iopub.status.busy": "2023-11-27T01:35:22.553967Z",
     "iopub.status.idle": "2023-11-27T01:35:22.561849Z",
     "shell.execute_reply": "2023-11-27T01:35:22.560663Z"
    },
    "jupyter": {
     "outputs_hidden": false
    },
    "papermill": {
     "duration": 0.044449,
     "end_time": "2023-11-27T01:35:22.564817",
     "exception": false,
     "start_time": "2023-11-27T01:35:22.520368",
     "status": "completed"
    },
    "tags": []
   },
   "outputs": [],
   "source": [
    "#combine the SibSp and Parch variables to get isAlone feature\n",
    "combined_df[\"isAlone\"] = 0\n",
    "combined_df.loc[combined_df['SibSp']+combined_df['Parch'] == 0, 'isAlone'] = 1"
   ]
  },
  {
   "cell_type": "code",
   "execution_count": 37,
   "id": "51383968",
   "metadata": {
    "_cell_guid": "d8e85dad-45eb-4fff-9817-735b8750580a",
    "_uuid": "7446a698-4071-46e4-8612-216d695304d0",
    "collapsed": false,
    "execution": {
     "iopub.execute_input": "2023-11-27T01:35:22.629477Z",
     "iopub.status.busy": "2023-11-27T01:35:22.628652Z",
     "iopub.status.idle": "2023-11-27T01:35:22.648437Z",
     "shell.execute_reply": "2023-11-27T01:35:22.647262Z"
    },
    "jupyter": {
     "outputs_hidden": false
    },
    "papermill": {
     "duration": 0.054806,
     "end_time": "2023-11-27T01:35:22.650754",
     "exception": false,
     "start_time": "2023-11-27T01:35:22.595948",
     "status": "completed"
    },
    "tags": []
   },
   "outputs": [
    {
     "data": {
      "text/html": [
       "<div>\n",
       "<style scoped>\n",
       "    .dataframe tbody tr th:only-of-type {\n",
       "        vertical-align: middle;\n",
       "    }\n",
       "\n",
       "    .dataframe tbody tr th {\n",
       "        vertical-align: top;\n",
       "    }\n",
       "\n",
       "    .dataframe thead th {\n",
       "        text-align: right;\n",
       "    }\n",
       "</style>\n",
       "<table border=\"1\" class=\"dataframe\">\n",
       "  <thead>\n",
       "    <tr style=\"text-align: right;\">\n",
       "      <th></th>\n",
       "      <th>PassengerId</th>\n",
       "      <th>Survived</th>\n",
       "      <th>Pclass</th>\n",
       "      <th>Sex</th>\n",
       "      <th>Age</th>\n",
       "      <th>Fare</th>\n",
       "      <th>Embarked</th>\n",
       "      <th>Title</th>\n",
       "      <th>isAlone</th>\n",
       "    </tr>\n",
       "  </thead>\n",
       "  <tbody>\n",
       "    <tr>\n",
       "      <th>0</th>\n",
       "      <td>1</td>\n",
       "      <td>0.0</td>\n",
       "      <td>3</td>\n",
       "      <td>0</td>\n",
       "      <td>22.0</td>\n",
       "      <td>1.981001</td>\n",
       "      <td>S</td>\n",
       "      <td>Mr</td>\n",
       "      <td>0</td>\n",
       "    </tr>\n",
       "    <tr>\n",
       "      <th>1</th>\n",
       "      <td>2</td>\n",
       "      <td>1.0</td>\n",
       "      <td>1</td>\n",
       "      <td>1</td>\n",
       "      <td>38.0</td>\n",
       "      <td>4.266662</td>\n",
       "      <td>C</td>\n",
       "      <td>Mrs</td>\n",
       "      <td>0</td>\n",
       "    </tr>\n",
       "    <tr>\n",
       "      <th>2</th>\n",
       "      <td>3</td>\n",
       "      <td>1.0</td>\n",
       "      <td>3</td>\n",
       "      <td>1</td>\n",
       "      <td>26.0</td>\n",
       "      <td>2.070022</td>\n",
       "      <td>S</td>\n",
       "      <td>Miss</td>\n",
       "      <td>1</td>\n",
       "    </tr>\n",
       "    <tr>\n",
       "      <th>3</th>\n",
       "      <td>4</td>\n",
       "      <td>1.0</td>\n",
       "      <td>1</td>\n",
       "      <td>1</td>\n",
       "      <td>35.0</td>\n",
       "      <td>3.972177</td>\n",
       "      <td>S</td>\n",
       "      <td>Mrs</td>\n",
       "      <td>0</td>\n",
       "    </tr>\n",
       "    <tr>\n",
       "      <th>4</th>\n",
       "      <td>5</td>\n",
       "      <td>0.0</td>\n",
       "      <td>3</td>\n",
       "      <td>0</td>\n",
       "      <td>35.0</td>\n",
       "      <td>2.085672</td>\n",
       "      <td>S</td>\n",
       "      <td>Mr</td>\n",
       "      <td>1</td>\n",
       "    </tr>\n",
       "  </tbody>\n",
       "</table>\n",
       "</div>"
      ],
      "text/plain": [
       "   PassengerId  Survived  Pclass  Sex   Age      Fare Embarked Title  isAlone\n",
       "0            1       0.0       3    0  22.0  1.981001        S    Mr        0\n",
       "1            2       1.0       1    1  38.0  4.266662        C   Mrs        0\n",
       "2            3       1.0       3    1  26.0  2.070022        S  Miss        1\n",
       "3            4       1.0       1    1  35.0  3.972177        S   Mrs        0\n",
       "4            5       0.0       3    0  35.0  2.085672        S    Mr        1"
      ]
     },
     "execution_count": 37,
     "metadata": {},
     "output_type": "execute_result"
    }
   ],
   "source": [
    "#drop the SibSp and Parch variables\n",
    "combined_df = combined_df.drop(['SibSp', 'Parch'], axis = 1)\n",
    "combined_df.head()"
   ]
  },
  {
   "cell_type": "markdown",
   "id": "343b25e3",
   "metadata": {
    "_cell_guid": "783e0e44-877b-4e4e-9530-bc84b7951665",
    "_uuid": "3fdb88eb-f014-4f76-99cd-db5ae4f41012",
    "papermill": {
     "duration": 0.030922,
     "end_time": "2023-11-27T01:35:22.712759",
     "exception": false,
     "start_time": "2023-11-27T01:35:22.681837",
     "status": "completed"
    },
    "tags": []
   },
   "source": [
    "# 3.3) One-hot Encoding"
   ]
  },
  {
   "cell_type": "code",
   "execution_count": 38,
   "id": "957873af",
   "metadata": {
    "_cell_guid": "24e0510f-7dce-4f2f-8d5a-1660497fd51c",
    "_uuid": "fe53d0a9-097d-4d91-aa71-4ed283fb07ea",
    "collapsed": false,
    "execution": {
     "iopub.execute_input": "2023-11-27T01:35:22.777934Z",
     "iopub.status.busy": "2023-11-27T01:35:22.776674Z",
     "iopub.status.idle": "2023-11-27T01:35:22.805639Z",
     "shell.execute_reply": "2023-11-27T01:35:22.804505Z"
    },
    "jupyter": {
     "outputs_hidden": false
    },
    "papermill": {
     "duration": 0.064611,
     "end_time": "2023-11-27T01:35:22.808435",
     "exception": false,
     "start_time": "2023-11-27T01:35:22.743824",
     "status": "completed"
    },
    "tags": []
   },
   "outputs": [
    {
     "data": {
      "text/html": [
       "<div>\n",
       "<style scoped>\n",
       "    .dataframe tbody tr th:only-of-type {\n",
       "        vertical-align: middle;\n",
       "    }\n",
       "\n",
       "    .dataframe tbody tr th {\n",
       "        vertical-align: top;\n",
       "    }\n",
       "\n",
       "    .dataframe thead th {\n",
       "        text-align: right;\n",
       "    }\n",
       "</style>\n",
       "<table border=\"1\" class=\"dataframe\">\n",
       "  <thead>\n",
       "    <tr style=\"text-align: right;\">\n",
       "      <th></th>\n",
       "      <th>PassengerId</th>\n",
       "      <th>Survived</th>\n",
       "      <th>Pclass</th>\n",
       "      <th>Sex</th>\n",
       "      <th>Age</th>\n",
       "      <th>Fare</th>\n",
       "      <th>isAlone</th>\n",
       "      <th>Title_Master</th>\n",
       "      <th>Title_Miss</th>\n",
       "      <th>Title_Mr</th>\n",
       "      <th>Title_Mrs</th>\n",
       "      <th>Title_Other</th>\n",
       "      <th>Em_C</th>\n",
       "      <th>Em_Q</th>\n",
       "      <th>Em_S</th>\n",
       "    </tr>\n",
       "  </thead>\n",
       "  <tbody>\n",
       "    <tr>\n",
       "      <th>0</th>\n",
       "      <td>1</td>\n",
       "      <td>0.0</td>\n",
       "      <td>3</td>\n",
       "      <td>0</td>\n",
       "      <td>22.0</td>\n",
       "      <td>1.981001</td>\n",
       "      <td>0</td>\n",
       "      <td>0</td>\n",
       "      <td>0</td>\n",
       "      <td>1</td>\n",
       "      <td>0</td>\n",
       "      <td>0</td>\n",
       "      <td>0</td>\n",
       "      <td>0</td>\n",
       "      <td>1</td>\n",
       "    </tr>\n",
       "    <tr>\n",
       "      <th>1</th>\n",
       "      <td>2</td>\n",
       "      <td>1.0</td>\n",
       "      <td>1</td>\n",
       "      <td>1</td>\n",
       "      <td>38.0</td>\n",
       "      <td>4.266662</td>\n",
       "      <td>0</td>\n",
       "      <td>0</td>\n",
       "      <td>0</td>\n",
       "      <td>0</td>\n",
       "      <td>1</td>\n",
       "      <td>0</td>\n",
       "      <td>1</td>\n",
       "      <td>0</td>\n",
       "      <td>0</td>\n",
       "    </tr>\n",
       "    <tr>\n",
       "      <th>2</th>\n",
       "      <td>3</td>\n",
       "      <td>1.0</td>\n",
       "      <td>3</td>\n",
       "      <td>1</td>\n",
       "      <td>26.0</td>\n",
       "      <td>2.070022</td>\n",
       "      <td>1</td>\n",
       "      <td>0</td>\n",
       "      <td>1</td>\n",
       "      <td>0</td>\n",
       "      <td>0</td>\n",
       "      <td>0</td>\n",
       "      <td>0</td>\n",
       "      <td>0</td>\n",
       "      <td>1</td>\n",
       "    </tr>\n",
       "    <tr>\n",
       "      <th>3</th>\n",
       "      <td>4</td>\n",
       "      <td>1.0</td>\n",
       "      <td>1</td>\n",
       "      <td>1</td>\n",
       "      <td>35.0</td>\n",
       "      <td>3.972177</td>\n",
       "      <td>0</td>\n",
       "      <td>0</td>\n",
       "      <td>0</td>\n",
       "      <td>0</td>\n",
       "      <td>1</td>\n",
       "      <td>0</td>\n",
       "      <td>0</td>\n",
       "      <td>0</td>\n",
       "      <td>1</td>\n",
       "    </tr>\n",
       "    <tr>\n",
       "      <th>4</th>\n",
       "      <td>5</td>\n",
       "      <td>0.0</td>\n",
       "      <td>3</td>\n",
       "      <td>0</td>\n",
       "      <td>35.0</td>\n",
       "      <td>2.085672</td>\n",
       "      <td>1</td>\n",
       "      <td>0</td>\n",
       "      <td>0</td>\n",
       "      <td>1</td>\n",
       "      <td>0</td>\n",
       "      <td>0</td>\n",
       "      <td>0</td>\n",
       "      <td>0</td>\n",
       "      <td>1</td>\n",
       "    </tr>\n",
       "  </tbody>\n",
       "</table>\n",
       "</div>"
      ],
      "text/plain": [
       "   PassengerId  Survived  Pclass  Sex   Age      Fare  isAlone  Title_Master  \\\n",
       "0            1       0.0       3    0  22.0  1.981001        0             0   \n",
       "1            2       1.0       1    1  38.0  4.266662        0             0   \n",
       "2            3       1.0       3    1  26.0  2.070022        1             0   \n",
       "3            4       1.0       1    1  35.0  3.972177        0             0   \n",
       "4            5       0.0       3    0  35.0  2.085672        1             0   \n",
       "\n",
       "   Title_Miss  Title_Mr  Title_Mrs  Title_Other  Em_C  Em_Q  Em_S  \n",
       "0           0         1          0            0     0     0     1  \n",
       "1           0         0          1            0     1     0     0  \n",
       "2           1         0          0            0     0     0     1  \n",
       "3           0         0          1            0     0     0     1  \n",
       "4           0         1          0            0     0     0     1  "
      ]
     },
     "execution_count": 38,
     "metadata": {},
     "output_type": "execute_result"
    }
   ],
   "source": [
    "combined_df = pd.get_dummies(combined_df, columns = ['Title'], dtype=int)\n",
    "combined_df = pd.get_dummies(combined_df, columns = ['Embarked'], prefix = 'Em', dtype=int)\n",
    "combined_df.head()"
   ]
  },
  {
   "cell_type": "code",
   "execution_count": 39,
   "id": "09f99f68",
   "metadata": {
    "_cell_guid": "fcff8f98-5692-449b-962a-6f70902f5278",
    "_uuid": "5dcc741a-2ddf-4e2a-bd16-0a97494bfd92",
    "collapsed": false,
    "execution": {
     "iopub.execute_input": "2023-11-27T01:35:22.880488Z",
     "iopub.status.busy": "2023-11-27T01:35:22.879121Z",
     "iopub.status.idle": "2023-11-27T01:35:22.888227Z",
     "shell.execute_reply": "2023-11-27T01:35:22.887211Z"
    },
    "jupyter": {
     "outputs_hidden": false
    },
    "papermill": {
     "duration": 0.048153,
     "end_time": "2023-11-27T01:35:22.891174",
     "exception": false,
     "start_time": "2023-11-27T01:35:22.843021",
     "status": "completed"
    },
    "tags": []
   },
   "outputs": [],
   "source": [
    "#splitting the combined dataframe back into train_data and test_data\n",
    "train_data = combined_df[:len(train_data)]\n",
    "test_data = combined_df[len(train_data):]\n",
    "test_data = test_data.drop('Survived', axis = 1)\n"
   ]
  },
  {
   "cell_type": "code",
   "execution_count": 40,
   "id": "0b291ef1",
   "metadata": {
    "_cell_guid": "aedff362-c6c2-4db0-8e10-eb91b3cfc3e3",
    "_uuid": "2e8c3ea2-6193-4a0e-800c-515142726260",
    "collapsed": false,
    "execution": {
     "iopub.execute_input": "2023-11-27T01:35:22.960043Z",
     "iopub.status.busy": "2023-11-27T01:35:22.959148Z",
     "iopub.status.idle": "2023-11-27T01:35:22.978592Z",
     "shell.execute_reply": "2023-11-27T01:35:22.977405Z"
    },
    "jupyter": {
     "outputs_hidden": false
    },
    "papermill": {
     "duration": 0.05623,
     "end_time": "2023-11-27T01:35:22.981237",
     "exception": false,
     "start_time": "2023-11-27T01:35:22.925007",
     "status": "completed"
    },
    "tags": []
   },
   "outputs": [
    {
     "data": {
      "text/html": [
       "<div>\n",
       "<style scoped>\n",
       "    .dataframe tbody tr th:only-of-type {\n",
       "        vertical-align: middle;\n",
       "    }\n",
       "\n",
       "    .dataframe tbody tr th {\n",
       "        vertical-align: top;\n",
       "    }\n",
       "\n",
       "    .dataframe thead th {\n",
       "        text-align: right;\n",
       "    }\n",
       "</style>\n",
       "<table border=\"1\" class=\"dataframe\">\n",
       "  <thead>\n",
       "    <tr style=\"text-align: right;\">\n",
       "      <th></th>\n",
       "      <th>PassengerId</th>\n",
       "      <th>Survived</th>\n",
       "      <th>Pclass</th>\n",
       "      <th>Sex</th>\n",
       "      <th>Age</th>\n",
       "      <th>Fare</th>\n",
       "      <th>isAlone</th>\n",
       "      <th>Title_Master</th>\n",
       "      <th>Title_Miss</th>\n",
       "      <th>Title_Mr</th>\n",
       "      <th>Title_Mrs</th>\n",
       "      <th>Title_Other</th>\n",
       "      <th>Em_C</th>\n",
       "      <th>Em_Q</th>\n",
       "      <th>Em_S</th>\n",
       "    </tr>\n",
       "  </thead>\n",
       "  <tbody>\n",
       "    <tr>\n",
       "      <th>0</th>\n",
       "      <td>1</td>\n",
       "      <td>0.0</td>\n",
       "      <td>3</td>\n",
       "      <td>0</td>\n",
       "      <td>22.0</td>\n",
       "      <td>1.981001</td>\n",
       "      <td>0</td>\n",
       "      <td>0</td>\n",
       "      <td>0</td>\n",
       "      <td>1</td>\n",
       "      <td>0</td>\n",
       "      <td>0</td>\n",
       "      <td>0</td>\n",
       "      <td>0</td>\n",
       "      <td>1</td>\n",
       "    </tr>\n",
       "    <tr>\n",
       "      <th>1</th>\n",
       "      <td>2</td>\n",
       "      <td>1.0</td>\n",
       "      <td>1</td>\n",
       "      <td>1</td>\n",
       "      <td>38.0</td>\n",
       "      <td>4.266662</td>\n",
       "      <td>0</td>\n",
       "      <td>0</td>\n",
       "      <td>0</td>\n",
       "      <td>0</td>\n",
       "      <td>1</td>\n",
       "      <td>0</td>\n",
       "      <td>1</td>\n",
       "      <td>0</td>\n",
       "      <td>0</td>\n",
       "    </tr>\n",
       "    <tr>\n",
       "      <th>2</th>\n",
       "      <td>3</td>\n",
       "      <td>1.0</td>\n",
       "      <td>3</td>\n",
       "      <td>1</td>\n",
       "      <td>26.0</td>\n",
       "      <td>2.070022</td>\n",
       "      <td>1</td>\n",
       "      <td>0</td>\n",
       "      <td>1</td>\n",
       "      <td>0</td>\n",
       "      <td>0</td>\n",
       "      <td>0</td>\n",
       "      <td>0</td>\n",
       "      <td>0</td>\n",
       "      <td>1</td>\n",
       "    </tr>\n",
       "    <tr>\n",
       "      <th>3</th>\n",
       "      <td>4</td>\n",
       "      <td>1.0</td>\n",
       "      <td>1</td>\n",
       "      <td>1</td>\n",
       "      <td>35.0</td>\n",
       "      <td>3.972177</td>\n",
       "      <td>0</td>\n",
       "      <td>0</td>\n",
       "      <td>0</td>\n",
       "      <td>0</td>\n",
       "      <td>1</td>\n",
       "      <td>0</td>\n",
       "      <td>0</td>\n",
       "      <td>0</td>\n",
       "      <td>1</td>\n",
       "    </tr>\n",
       "    <tr>\n",
       "      <th>4</th>\n",
       "      <td>5</td>\n",
       "      <td>0.0</td>\n",
       "      <td>3</td>\n",
       "      <td>0</td>\n",
       "      <td>35.0</td>\n",
       "      <td>2.085672</td>\n",
       "      <td>1</td>\n",
       "      <td>0</td>\n",
       "      <td>0</td>\n",
       "      <td>1</td>\n",
       "      <td>0</td>\n",
       "      <td>0</td>\n",
       "      <td>0</td>\n",
       "      <td>0</td>\n",
       "      <td>1</td>\n",
       "    </tr>\n",
       "  </tbody>\n",
       "</table>\n",
       "</div>"
      ],
      "text/plain": [
       "   PassengerId  Survived  Pclass  Sex   Age      Fare  isAlone  Title_Master  \\\n",
       "0            1       0.0       3    0  22.0  1.981001        0             0   \n",
       "1            2       1.0       1    1  38.0  4.266662        0             0   \n",
       "2            3       1.0       3    1  26.0  2.070022        1             0   \n",
       "3            4       1.0       1    1  35.0  3.972177        0             0   \n",
       "4            5       0.0       3    0  35.0  2.085672        1             0   \n",
       "\n",
       "   Title_Miss  Title_Mr  Title_Mrs  Title_Other  Em_C  Em_Q  Em_S  \n",
       "0           0         1          0            0     0     0     1  \n",
       "1           0         0          1            0     1     0     0  \n",
       "2           1         0          0            0     0     0     1  \n",
       "3           0         0          1            0     0     0     1  \n",
       "4           0         1          0            0     0     0     1  "
      ]
     },
     "execution_count": 40,
     "metadata": {},
     "output_type": "execute_result"
    }
   ],
   "source": [
    "train_data.head()"
   ]
  },
  {
   "cell_type": "code",
   "execution_count": 41,
   "id": "9263fd9a",
   "metadata": {
    "_cell_guid": "ee80e008-ae6f-4f13-ad67-1b0e02fc4dda",
    "_uuid": "5de305f5-8cbc-4341-aee6-55172633cc36",
    "collapsed": false,
    "execution": {
     "iopub.execute_input": "2023-11-27T01:35:23.048519Z",
     "iopub.status.busy": "2023-11-27T01:35:23.047603Z",
     "iopub.status.idle": "2023-11-27T01:35:23.068356Z",
     "shell.execute_reply": "2023-11-27T01:35:23.067023Z"
    },
    "jupyter": {
     "outputs_hidden": false
    },
    "papermill": {
     "duration": 0.057311,
     "end_time": "2023-11-27T01:35:23.071243",
     "exception": false,
     "start_time": "2023-11-27T01:35:23.013932",
     "status": "completed"
    },
    "tags": []
   },
   "outputs": [
    {
     "data": {
      "text/html": [
       "<div>\n",
       "<style scoped>\n",
       "    .dataframe tbody tr th:only-of-type {\n",
       "        vertical-align: middle;\n",
       "    }\n",
       "\n",
       "    .dataframe tbody tr th {\n",
       "        vertical-align: top;\n",
       "    }\n",
       "\n",
       "    .dataframe thead th {\n",
       "        text-align: right;\n",
       "    }\n",
       "</style>\n",
       "<table border=\"1\" class=\"dataframe\">\n",
       "  <thead>\n",
       "    <tr style=\"text-align: right;\">\n",
       "      <th></th>\n",
       "      <th>PassengerId</th>\n",
       "      <th>Pclass</th>\n",
       "      <th>Sex</th>\n",
       "      <th>Age</th>\n",
       "      <th>Fare</th>\n",
       "      <th>isAlone</th>\n",
       "      <th>Title_Master</th>\n",
       "      <th>Title_Miss</th>\n",
       "      <th>Title_Mr</th>\n",
       "      <th>Title_Mrs</th>\n",
       "      <th>Title_Other</th>\n",
       "      <th>Em_C</th>\n",
       "      <th>Em_Q</th>\n",
       "      <th>Em_S</th>\n",
       "    </tr>\n",
       "  </thead>\n",
       "  <tbody>\n",
       "    <tr>\n",
       "      <th>891</th>\n",
       "      <td>892</td>\n",
       "      <td>3</td>\n",
       "      <td>0</td>\n",
       "      <td>34.5</td>\n",
       "      <td>2.057860</td>\n",
       "      <td>1</td>\n",
       "      <td>0</td>\n",
       "      <td>0</td>\n",
       "      <td>1</td>\n",
       "      <td>0</td>\n",
       "      <td>0</td>\n",
       "      <td>0</td>\n",
       "      <td>1</td>\n",
       "      <td>0</td>\n",
       "    </tr>\n",
       "    <tr>\n",
       "      <th>892</th>\n",
       "      <td>893</td>\n",
       "      <td>3</td>\n",
       "      <td>1</td>\n",
       "      <td>47.0</td>\n",
       "      <td>1.945910</td>\n",
       "      <td>0</td>\n",
       "      <td>0</td>\n",
       "      <td>0</td>\n",
       "      <td>0</td>\n",
       "      <td>1</td>\n",
       "      <td>0</td>\n",
       "      <td>0</td>\n",
       "      <td>0</td>\n",
       "      <td>1</td>\n",
       "    </tr>\n",
       "    <tr>\n",
       "      <th>893</th>\n",
       "      <td>894</td>\n",
       "      <td>2</td>\n",
       "      <td>0</td>\n",
       "      <td>62.0</td>\n",
       "      <td>2.270836</td>\n",
       "      <td>1</td>\n",
       "      <td>0</td>\n",
       "      <td>0</td>\n",
       "      <td>1</td>\n",
       "      <td>0</td>\n",
       "      <td>0</td>\n",
       "      <td>0</td>\n",
       "      <td>1</td>\n",
       "      <td>0</td>\n",
       "    </tr>\n",
       "    <tr>\n",
       "      <th>894</th>\n",
       "      <td>895</td>\n",
       "      <td>3</td>\n",
       "      <td>0</td>\n",
       "      <td>27.0</td>\n",
       "      <td>2.159003</td>\n",
       "      <td>1</td>\n",
       "      <td>0</td>\n",
       "      <td>0</td>\n",
       "      <td>1</td>\n",
       "      <td>0</td>\n",
       "      <td>0</td>\n",
       "      <td>0</td>\n",
       "      <td>0</td>\n",
       "      <td>1</td>\n",
       "    </tr>\n",
       "    <tr>\n",
       "      <th>895</th>\n",
       "      <td>896</td>\n",
       "      <td>3</td>\n",
       "      <td>1</td>\n",
       "      <td>22.0</td>\n",
       "      <td>2.508582</td>\n",
       "      <td>0</td>\n",
       "      <td>0</td>\n",
       "      <td>0</td>\n",
       "      <td>0</td>\n",
       "      <td>1</td>\n",
       "      <td>0</td>\n",
       "      <td>0</td>\n",
       "      <td>0</td>\n",
       "      <td>1</td>\n",
       "    </tr>\n",
       "  </tbody>\n",
       "</table>\n",
       "</div>"
      ],
      "text/plain": [
       "     PassengerId  Pclass  Sex   Age      Fare  isAlone  Title_Master  \\\n",
       "891          892       3    0  34.5  2.057860        1             0   \n",
       "892          893       3    1  47.0  1.945910        0             0   \n",
       "893          894       2    0  62.0  2.270836        1             0   \n",
       "894          895       3    0  27.0  2.159003        1             0   \n",
       "895          896       3    1  22.0  2.508582        0             0   \n",
       "\n",
       "     Title_Miss  Title_Mr  Title_Mrs  Title_Other  Em_C  Em_Q  Em_S  \n",
       "891           0         1          0            0     0     1     0  \n",
       "892           0         0          1            0     0     0     1  \n",
       "893           0         1          0            0     0     1     0  \n",
       "894           0         1          0            0     0     0     1  \n",
       "895           0         0          1            0     0     0     1  "
      ]
     },
     "execution_count": 41,
     "metadata": {},
     "output_type": "execute_result"
    }
   ],
   "source": [
    "test_data.head()"
   ]
  },
  {
   "cell_type": "markdown",
   "id": "6881629f",
   "metadata": {
    "papermill": {
     "duration": 0.032044,
     "end_time": "2023-11-27T01:35:23.135380",
     "exception": false,
     "start_time": "2023-11-27T01:35:23.103336",
     "status": "completed"
    },
    "tags": []
   },
   "source": [
    "# 4) Random Forest Classification"
   ]
  },
  {
   "cell_type": "code",
   "execution_count": 42,
   "id": "18393f5b",
   "metadata": {
    "_cell_guid": "7cdfc7b8-a62e-4179-bd5b-bd164ce92e93",
    "_uuid": "c6209de7-931c-4177-9c4f-d60853a73699",
    "collapsed": false,
    "execution": {
     "iopub.execute_input": "2023-11-27T01:35:23.202031Z",
     "iopub.status.busy": "2023-11-27T01:35:23.201557Z",
     "iopub.status.idle": "2023-11-27T01:35:24.938609Z",
     "shell.execute_reply": "2023-11-27T01:35:24.937174Z"
    },
    "jupyter": {
     "outputs_hidden": false
    },
    "papermill": {
     "duration": 1.77394,
     "end_time": "2023-11-27T01:35:24.941505",
     "exception": false,
     "start_time": "2023-11-27T01:35:23.167565",
     "status": "completed"
    },
    "tags": []
   },
   "outputs": [
    {
     "name": "stdout",
     "output_type": "stream",
     "text": [
      "Your submission was successfully saved!\n"
     ]
    }
   ],
   "source": [
    "from sklearn.ensemble import RandomForestClassifier\n",
    "from sklearn.model_selection import train_test_split\n",
    "\n",
    "train_features = train_data.drop('Survived', axis=1)\n",
    "train_labels = train_data['Survived']\n",
    "test_features = test_data\n",
    "\n",
    "# Assuming you have processed and split your data into features and labels\n",
    "X_train, X_test, y_train, y_test = train_test_split(train_features, train_labels, test_size=0.2)\n",
    "\n",
    "# Initialize the Random Forest Classifier\n",
    "num_trees = 300\n",
    "max_depth = 5\n",
    "min_samples_split = 2\n",
    "\n",
    "random_forest = RandomForestClassifier(n_estimators=num_trees, max_depth=max_depth, min_samples_split=min_samples_split)\n",
    "\n",
    "# Train the Random Forest\n",
    "random_forest.fit(X_train, y_train)\n",
    "\n",
    "# Make predictions on the test set\n",
    "predictions = random_forest.predict(X_test)\n",
    "test_predictions = random_forest.predict(test_data)\n",
    "\n",
    "# Create a DataFrame with the predictions\n",
    "output = pd.DataFrame({'PassengerId': test_data.PassengerId, 'Survived': test_predictions}).astype('int64')\n",
    "output.to_csv('submission_newforest.csv', index=False)\n",
    "print(\"Your submission was successfully saved!\")\n"
   ]
  },
  {
   "cell_type": "code",
   "execution_count": null,
   "id": "f6843250",
   "metadata": {
    "papermill": {
     "duration": 0.032465,
     "end_time": "2023-11-27T01:35:25.006293",
     "exception": false,
     "start_time": "2023-11-27T01:35:24.973828",
     "status": "completed"
    },
    "tags": []
   },
   "outputs": [],
   "source": []
  },
  {
   "cell_type": "markdown",
   "id": "e3b08d12",
   "metadata": {
    "papermill": {
     "duration": 0.031696,
     "end_time": "2023-11-27T01:35:25.070199",
     "exception": false,
     "start_time": "2023-11-27T01:35:25.038503",
     "status": "completed"
    },
    "tags": []
   },
   "source": [
    "# 5) Logistic Regression"
   ]
  },
  {
   "cell_type": "code",
   "execution_count": 43,
   "id": "797bdbae",
   "metadata": {
    "execution": {
     "iopub.execute_input": "2023-11-27T01:35:25.137509Z",
     "iopub.status.busy": "2023-11-27T01:35:25.136967Z",
     "iopub.status.idle": "2023-11-27T01:35:25.667839Z",
     "shell.execute_reply": "2023-11-27T01:35:25.666566Z"
    },
    "papermill": {
     "duration": 0.569446,
     "end_time": "2023-11-27T01:35:25.671790",
     "exception": false,
     "start_time": "2023-11-27T01:35:25.102344",
     "status": "completed"
    },
    "tags": []
   },
   "outputs": [
    {
     "name": "stdout",
     "output_type": "stream",
     "text": [
      "Digitized: 0\n",
      "Digitized: 0\n",
      "Digitized: 0\n",
      "Digitized: 0\n",
      "Digitized: 1\n",
      "Digitized: 0\n",
      "Digitized: 1\n",
      "Digitized: 0\n",
      "Digitized: 1\n",
      "Digitized: 0\n",
      "Digitized: 0\n",
      "Digitized: 0\n",
      "Digitized: 1\n",
      "Digitized: 0\n",
      "Digitized: 1\n",
      "Digitized: 1\n",
      "Digitized: 0\n",
      "Digitized: 0\n",
      "Digitized: 0\n",
      "Digitized: 1\n",
      "Digitized: 0\n",
      "Digitized: 0\n",
      "Digitized: 1\n",
      "Digitized: 1\n",
      "Digitized: 1\n",
      "Digitized: 0\n",
      "Digitized: 1\n",
      "Digitized: 0\n",
      "Digitized: 0\n",
      "Digitized: 0\n",
      "Digitized: 0\n",
      "Digitized: 0\n",
      "Digitized: 1\n",
      "Digitized: 1\n",
      "Digitized: 0\n",
      "Digitized: 0\n",
      "Digitized: 1\n",
      "Digitized: 1\n",
      "Digitized: 0\n",
      "Digitized: 0\n",
      "Digitized: 0\n",
      "Digitized: 0\n",
      "Digitized: 0\n",
      "Digitized: 1\n",
      "Digitized: 1\n",
      "Digitized: 0\n",
      "Digitized: 1\n",
      "Digitized: 0\n",
      "Digitized: 1\n",
      "Digitized: 1\n",
      "Digitized: 0\n",
      "Digitized: 0\n",
      "Digitized: 1\n",
      "Digitized: 1\n",
      "Digitized: 0\n",
      "Digitized: 1\n",
      "Digitized: 0\n",
      "Digitized: 0\n",
      "Digitized: 0\n",
      "Digitized: 1\n",
      "Digitized: 0\n",
      "Digitized: 0\n",
      "Digitized: 0\n",
      "Digitized: 1\n",
      "Digitized: 1\n",
      "Digitized: 1\n",
      "Digitized: 1\n",
      "Digitized: 0\n",
      "Digitized: 1\n",
      "Digitized: 1\n",
      "Digitized: 1\n",
      "Digitized: 0\n",
      "Digitized: 1\n",
      "Digitized: 1\n",
      "Digitized: 1\n",
      "Digitized: 1\n",
      "Digitized: 0\n",
      "Digitized: 1\n",
      "Digitized: 0\n",
      "Digitized: 1\n",
      "Digitized: 1\n",
      "Digitized: 0\n",
      "Digitized: 0\n",
      "Digitized: 0\n",
      "Digitized: 0\n",
      "Digitized: 0\n",
      "Digitized: 1\n",
      "Digitized: 1\n",
      "Digitized: 1\n",
      "Digitized: 1\n",
      "Digitized: 1\n",
      "Digitized: 0\n",
      "Digitized: 1\n",
      "Digitized: 0\n",
      "Digitized: 1\n",
      "Digitized: 0\n",
      "Digitized: 1\n",
      "Digitized: 0\n",
      "Digitized: 1\n",
      "Digitized: 0\n",
      "Digitized: 1\n",
      "Digitized: 0\n",
      "Digitized: 0\n",
      "Digitized: 0\n",
      "Digitized: 1\n",
      "Digitized: 0\n",
      "Digitized: 0\n",
      "Digitized: 0\n",
      "Digitized: 0\n",
      "Digitized: 0\n",
      "Digitized: 0\n",
      "Digitized: 1\n",
      "Digitized: 1\n",
      "Digitized: 1\n",
      "Digitized: 1\n",
      "Digitized: 0\n",
      "Digitized: 0\n",
      "Digitized: 1\n",
      "Digitized: 1\n",
      "Digitized: 1\n",
      "Digitized: 1\n",
      "Digitized: 0\n",
      "Digitized: 1\n",
      "Digitized: 0\n",
      "Digitized: 0\n",
      "Digitized: 0\n",
      "Digitized: 0\n",
      "Digitized: 1\n",
      "Digitized: 0\n",
      "Digitized: 0\n",
      "Digitized: 0\n",
      "Digitized: 1\n",
      "Digitized: 1\n",
      "Digitized: 0\n",
      "Digitized: 0\n",
      "Digitized: 0\n",
      "Digitized: 0\n",
      "Digitized: 0\n",
      "Digitized: 1\n",
      "Digitized: 0\n",
      "Digitized: 1\n",
      "Digitized: 1\n",
      "Digitized: 0\n",
      "Digitized: 0\n",
      "Digitized: 0\n",
      "Digitized: 0\n",
      "Digitized: 0\n",
      "Digitized: 0\n",
      "Digitized: 0\n",
      "Digitized: 0\n",
      "Digitized: 1\n",
      "Digitized: 0\n",
      "Digitized: 0\n",
      "Digitized: 1\n",
      "Digitized: 0\n",
      "Digitized: 0\n",
      "Digitized: 1\n",
      "Digitized: 1\n",
      "Digitized: 0\n",
      "Digitized: 1\n",
      "Digitized: 1\n",
      "Digitized: 1\n",
      "Digitized: 1\n",
      "Digitized: 0\n",
      "Digitized: 0\n",
      "Digitized: 1\n",
      "Digitized: 0\n",
      "Digitized: 0\n",
      "Digitized: 1\n",
      "Digitized: 1\n",
      "Digitized: 0\n",
      "Digitized: 0\n",
      "Digitized: 0\n",
      "Digitized: 0\n",
      "Digitized: 0\n",
      "Digitized: 1\n",
      "Digitized: 1\n",
      "Digitized: 0\n",
      "Digitized: 1\n",
      "Digitized: 1\n",
      "Digitized: 0\n",
      "Digitized: 0\n",
      "Digitized: 1\n",
      "Digitized: 0\n",
      "Digitized: 1\n",
      "Digitized: 0\n",
      "Digitized: 1\n",
      "Digitized: 0\n",
      "Digitized: 0\n",
      "Digitized: 0\n",
      "Digitized: 0\n",
      "Digitized: 0\n",
      "Digitized: 0\n",
      "Digitized: 0\n",
      "Digitized: 1\n",
      "Digitized: 0\n",
      "Digitized: 1\n",
      "Digitized: 1\n",
      "Digitized: 0\n",
      "Digitized: 1\n",
      "Digitized: 1\n",
      "Digitized: 0\n",
      "Digitized: 0\n",
      "Digitized: 1\n",
      "Digitized: 0\n",
      "Digitized: 1\n",
      "Digitized: 1\n",
      "Digitized: 0\n",
      "Digitized: 1\n",
      "Digitized: 0\n",
      "Digitized: 0\n",
      "Digitized: 0\n",
      "Digitized: 0\n",
      "Digitized: 1\n",
      "Digitized: 0\n",
      "Digitized: 0\n",
      "Digitized: 1\n",
      "Digitized: 0\n",
      "Digitized: 1\n",
      "Digitized: 0\n",
      "Digitized: 1\n",
      "Digitized: 0\n",
      "Digitized: 1\n",
      "Digitized: 0\n",
      "Digitized: 1\n",
      "Digitized: 1\n",
      "Digitized: 0\n",
      "Digitized: 1\n",
      "Digitized: 0\n",
      "Digitized: 0\n",
      "Digitized: 0\n",
      "Digitized: 1\n",
      "Digitized: 0\n",
      "Digitized: 0\n",
      "Digitized: 0\n",
      "Digitized: 0\n",
      "Digitized: 0\n",
      "Digitized: 0\n",
      "Digitized: 1\n",
      "Digitized: 1\n",
      "Digitized: 1\n",
      "Digitized: 1\n",
      "Digitized: 0\n",
      "Digitized: 0\n",
      "Digitized: 0\n",
      "Digitized: 0\n",
      "Digitized: 1\n",
      "Digitized: 0\n",
      "Digitized: 1\n",
      "Digitized: 1\n",
      "Digitized: 1\n",
      "Digitized: 0\n",
      "Digitized: 0\n",
      "Digitized: 0\n",
      "Digitized: 0\n",
      "Digitized: 0\n",
      "Digitized: 0\n",
      "Digitized: 0\n",
      "Digitized: 1\n",
      "Digitized: 0\n",
      "Digitized: 0\n",
      "Digitized: 0\n",
      "Digitized: 1\n",
      "Digitized: 1\n",
      "Digitized: 0\n",
      "Digitized: 0\n",
      "Digitized: 0\n",
      "Digitized: 0\n",
      "Digitized: 1\n",
      "Digitized: 0\n",
      "Digitized: 1\n",
      "Digitized: 0\n",
      "Digitized: 1\n",
      "Digitized: 1\n",
      "Digitized: 0\n",
      "Digitized: 1\n",
      "Digitized: 0\n",
      "Digitized: 0\n",
      "Digitized: 0\n",
      "Digitized: 0\n",
      "Digitized: 1\n",
      "Digitized: 0\n",
      "Digitized: 1\n",
      "Digitized: 1\n",
      "Digitized: 1\n",
      "Digitized: 0\n",
      "Digitized: 0\n",
      "Digitized: 0\n",
      "Digitized: 0\n",
      "Digitized: 0\n",
      "Digitized: 0\n",
      "Digitized: 1\n",
      "Digitized: 0\n",
      "Digitized: 0\n",
      "Digitized: 0\n",
      "Digitized: 0\n",
      "Digitized: 1\n",
      "Digitized: 0\n",
      "Digitized: 0\n",
      "Digitized: 0\n",
      "Digitized: 0\n",
      "Digitized: 0\n",
      "Digitized: 0\n",
      "Digitized: 0\n",
      "Digitized: 1\n",
      "Digitized: 1\n",
      "Digitized: 0\n",
      "Digitized: 0\n",
      "Digitized: 0\n",
      "Digitized: 0\n",
      "Digitized: 0\n",
      "Digitized: 0\n",
      "Digitized: 0\n",
      "Digitized: 1\n",
      "Digitized: 1\n",
      "Digitized: 1\n",
      "Digitized: 0\n",
      "Digitized: 0\n",
      "Digitized: 0\n",
      "Digitized: 0\n",
      "Digitized: 0\n",
      "Digitized: 0\n",
      "Digitized: 0\n",
      "Digitized: 0\n",
      "Digitized: 1\n",
      "Digitized: 0\n",
      "Digitized: 1\n",
      "Digitized: 1\n",
      "Digitized: 0\n",
      "Digitized: 0\n",
      "Digitized: 1\n",
      "Digitized: 1\n",
      "Digitized: 0\n",
      "Digitized: 1\n",
      "Digitized: 0\n",
      "Digitized: 0\n",
      "Digitized: 0\n",
      "Digitized: 0\n",
      "Digitized: 0\n",
      "Digitized: 1\n",
      "Digitized: 0\n",
      "Digitized: 0\n",
      "Digitized: 0\n",
      "Digitized: 1\n",
      "Digitized: 0\n",
      "Digitized: 1\n",
      "Digitized: 0\n",
      "Digitized: 1\n",
      "Digitized: 0\n",
      "Digitized: 1\n",
      "Digitized: 1\n",
      "Digitized: 0\n",
      "Digitized: 0\n",
      "Digitized: 0\n",
      "Digitized: 1\n",
      "Digitized: 0\n",
      "Digitized: 1\n",
      "Digitized: 0\n",
      "Digitized: 0\n",
      "Digitized: 1\n",
      "Digitized: 0\n",
      "Digitized: 1\n",
      "Digitized: 1\n",
      "Digitized: 0\n",
      "Digitized: 1\n",
      "Digitized: 1\n",
      "Digitized: 0\n",
      "Digitized: 1\n",
      "Digitized: 1\n",
      "Digitized: 0\n",
      "Digitized: 0\n",
      "Digitized: 1\n",
      "Digitized: 0\n",
      "Digitized: 0\n",
      "Digitized: 1\n",
      "Digitized: 1\n",
      "Digitized: 0\n",
      "Digitized: 0\n",
      "Digitized: 0\n",
      "Digitized: 0\n",
      "Digitized: 0\n",
      "Digitized: 0\n",
      "Digitized: 1\n",
      "Digitized: 1\n",
      "Digitized: 0\n",
      "Digitized: 1\n",
      "Digitized: 0\n",
      "Digitized: 0\n",
      "Digitized: 0\n",
      "Digitized: 0\n",
      "Digitized: 0\n",
      "Digitized: 1\n",
      "Digitized: 0\n",
      "Digitized: 0\n",
      "Digitized: 0\n",
      "Digitized: 1\n",
      "Digitized: 0\n",
      "Digitized: 1\n",
      "Digitized: 0\n",
      "Digitized: 0\n",
      "Digitized: 1\n",
      "Digitized: 0\n",
      "Digitized: 1\n",
      "Digitized: 1\n",
      "Digitized: 0\n",
      "Digitized: 0\n",
      "Digitized: 0\n",
      "Digitized: 0\n",
      "Digitized: 1\n",
      "Digitized: 1\n",
      "Digitized: 1\n",
      "Digitized: 1\n",
      "Digitized: 1\n",
      "Digitized: 0\n",
      "Digitized: 1\n",
      "Digitized: 0\n",
      "Digitized: 0\n",
      "Digitized: 0\n",
      "Your submission was successfully saved!\n"
     ]
    }
   ],
   "source": [
    "from sklearn.linear_model import LogisticRegression\n",
    "\n",
    "logreg = LogisticRegression(max_iter=1000)\n",
    "logreg.fit(train_features, train_labels)\n",
    "prediction_label = logreg.predict(test_features)\n",
    "acc_logreg = round(logreg.score(train_features, train_labels) * 100,2)\n",
    "acc_logreg\n",
    "\n",
    "#converting into integer data type\n",
    "for index in range(len(prediction_label)):\n",
    "    print(\"Digitized: \" + str(int(prediction_label[index])))\n",
    "\n",
    "output_LR = pd.DataFrame({'PassengerId': test_data.PassengerId, 'Survived': prediction_label}).astype('int64')\n",
    "output_LR.to_csv('submission_lr.csv', index=False)\n",
    "print(\"Your submission was successfully saved!\")"
   ]
  },
  {
   "cell_type": "code",
   "execution_count": null,
   "id": "48dbc9b3",
   "metadata": {
    "papermill": {
     "duration": 0.046707,
     "end_time": "2023-11-27T01:35:25.788211",
     "exception": false,
     "start_time": "2023-11-27T01:35:25.741504",
     "status": "completed"
    },
    "tags": []
   },
   "outputs": [],
   "source": []
  }
 ],
 "metadata": {
  "kaggle": {
   "accelerator": "none",
   "dataSources": [
    {
     "databundleVersionId": 26502,
     "sourceId": 3136,
     "sourceType": "competition"
    }
   ],
   "dockerImageVersionId": 30558,
   "isGpuEnabled": false,
   "isInternetEnabled": false,
   "language": "python",
   "sourceType": "notebook"
  },
  "kernelspec": {
   "display_name": "Python 3",
   "language": "python",
   "name": "python3"
  },
  "language_info": {
   "codemirror_mode": {
    "name": "ipython",
    "version": 3
   },
   "file_extension": ".py",
   "mimetype": "text/x-python",
   "name": "python",
   "nbconvert_exporter": "python",
   "pygments_lexer": "ipython3",
   "version": "3.10.12"
  },
  "papermill": {
   "default_parameters": {},
   "duration": 20.026342,
   "end_time": "2023-11-27T01:35:26.543535",
   "environment_variables": {},
   "exception": null,
   "input_path": "__notebook__.ipynb",
   "output_path": "__notebook__.ipynb",
   "parameters": {},
   "start_time": "2023-11-27T01:35:06.517193",
   "version": "2.4.0"
  }
 },
 "nbformat": 4,
 "nbformat_minor": 5
}
